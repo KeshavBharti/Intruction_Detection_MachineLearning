{
 "cells": [
  {
   "cell_type": "code",
   "execution_count": 1,
   "id": "80f9d065",
   "metadata": {},
   "outputs": [],
   "source": [
    "import os\n",
    "import pandas as pd\n",
    "import numpy as np\n",
    "import matplotlib.pyplot as plt\n",
    "import seaborn as sns\n",
    "import time"
   ]
  },
  {
   "cell_type": "code",
   "execution_count": 2,
   "id": "660e6a86",
   "metadata": {},
   "outputs": [
    {
     "name": "stdout",
     "output_type": "stream",
     "text": [
      "back,buffer_overflow,ftp_write,guess_passwd,imap,ipsweep,land,loadmodule,multihop,neptune,nmap,normal,perl,phf,pod,portsweep,rootkit,satan,smurf,spy,teardrop,warezclient,warezmaster.\n",
      "duration: continuous.\n",
      "protocol_type: symbolic.\n",
      "service: symbolic.\n",
      "flag: symbolic.\n",
      "src_bytes: continuous.\n",
      "dst_bytes: continuous.\n",
      "land: symbolic.\n",
      "wrong_fragment: continuous.\n",
      "urgent: continuous.\n",
      "hot: continuous.\n",
      "num_failed_logins: continuous.\n",
      "logged_in: symbolic.\n",
      "num_compromised: continuous.\n",
      "root_shell: continuous.\n",
      "su_attempted: continuous.\n",
      "num_root: continuous.\n",
      "num_file_creations: continuous.\n",
      "num_shells: continuous.\n",
      "num_access_files: continuous.\n",
      "num_outbound_cmds: continuous.\n",
      "is_host_login: symbolic.\n",
      "is_guest_login: symbolic.\n",
      "count: continuous.\n",
      "srv_count: continuous.\n",
      "serror_rate: continuous.\n",
      "srv_serror_rate: continuous.\n",
      "rerror_rate: continuous.\n",
      "srv_rerror_rate: continuous.\n",
      "same_srv_rate: continuous.\n",
      "diff_srv_rate: continuous.\n",
      "srv_diff_host_rate: continuous.\n",
      "dst_host_count: continuous.\n",
      "dst_host_srv_count: continuous.\n",
      "dst_host_same_srv_rate: continuous.\n",
      "dst_host_diff_srv_rate: continuous.\n",
      "dst_host_same_src_port_rate: continuous.\n",
      "dst_host_srv_diff_host_rate: continuous.\n",
      "dst_host_serror_rate: continuous.\n",
      "dst_host_srv_serror_rate: continuous.\n",
      "dst_host_rerror_rate: continuous.\n",
      "dst_host_srv_rerror_rate: continuous.\n",
      "\n"
     ]
    }
   ],
   "source": [
    "with open(\"kddcup.names\", 'r') as f:\n",
    "    print(f.read())"
   ]
  },
  {
   "cell_type": "code",
   "execution_count": 3,
   "id": "8566d80f",
   "metadata": {},
   "outputs": [
    {
     "name": "stdout",
     "output_type": "stream",
     "text": [
      "['duration', 'protocol type', 'service', 'flag', 'src bytes', 'dst bytes', 'Land', 'wrong fragment', 'urgent', 'hot', 'nums failed logins', 'logged in', 'num compromised', 'root shell', 'su attempted', 'num_root', 'num_file_creations', 'num_shells', 'num_access files', 'num_outbound_conds', 'is host login', 'is guest_login', 'count', 'sev count', 'serror rate', 'srv_serror_rate', 'terror_rate', 'sry rerror_rate', 'same srv_rate', 'diff srv_rate', 'SEV diff host_rate', 'dst host count', 'dst host srv_count', 'dst host same srv_rate', 'dst host diff sry rate', 'dst host same src port rate', 'dst host srv_serror_rate', 'dst_host_srv_diff_host_rate', 'dst host serror_rate', 'dst host_rerror_rate', 'dst_host_srv_rerror_rate', 'target']\n",
      "----------> 42\n"
     ]
    }
   ],
   "source": [
    "cols=\"\"\"duration,\n",
    "protocol type,\n",
    "service,\n",
    "flag,\n",
    "src bytes,\n",
    "dst bytes,\n",
    "Land,\n",
    "wrong fragment,\n",
    "urgent,\n",
    "hot,\n",
    "nums failed logins,\n",
    "logged in,\n",
    "num compromised,\n",
    "root shell,\n",
    "su attempted,\n",
    "num_root,\n",
    "num_file_creations,\n",
    "num_shells,\n",
    "num_access files,\n",
    "num_outbound_conds,\n",
    "is host login,\n",
    "is guest_login,\n",
    "count,\n",
    "sev count,\n",
    "serror rate,\n",
    "srv_serror_rate,\n",
    "terror_rate,\n",
    "sry rerror_rate,\n",
    "same srv_rate,\n",
    "diff srv_rate,\n",
    "SEV diff host_rate,\n",
    "dst host count,\n",
    "dst host srv_count,\n",
    "dst host same srv_rate,\n",
    "dst host diff sry rate,\n",
    "dst host same src port rate,\n",
    "dst host srv_serror_rate,\n",
    "dst_host_srv_diff_host_rate,\n",
    "dst host serror_rate,\n",
    "dst host_rerror_rate,\n",
    "dst_host_srv_rerror_rate\"\"\"\n",
    "columns=[]\n",
    "for c in cols.split(','):\n",
    "    if(c.strip()):\n",
    "        columns.append(c.strip())\n",
    "columns.append('target')\n",
    "print(columns)\n",
    "print(\"---------->\",len(columns))"
   ]
  },
  {
   "cell_type": "code",
   "execution_count": 4,
   "id": "b99e80f7",
   "metadata": {},
   "outputs": [
    {
     "name": "stdout",
     "output_type": "stream",
     "text": [
      "back dos\n",
      "buffer_overflow u2r\n",
      "ftp_write r2l\n",
      "guess_passwd r2l\n",
      "imap r2l\n",
      "ipsweep probe\n",
      "land dos\n",
      "loadmodule u2r\n",
      "multihop r2l\n",
      "neptune dos\n",
      "nmap probe\n",
      "perl u2r\n",
      "phf r2l\n",
      "pod dos\n",
      "portsweep probe\n",
      "rootkit u2r\n",
      "satan probe\n",
      "smurf dos\n",
      "spy r2l\n",
      "teardrop dos\n",
      "warezclient r2l\n",
      "warezmaster r2l\n",
      "\n",
      "\n"
     ]
    }
   ],
   "source": [
    "with open(\"training_attack_types\", 'r') as f:\n",
    "    print (f.read())"
   ]
  },
  {
   "cell_type": "code",
   "execution_count": 5,
   "id": "11c2df2e",
   "metadata": {},
   "outputs": [
    {
     "name": "stdout",
     "output_type": "stream",
     "text": [
      "23\n",
      "{'normal': 'normal', 'back': 'dos', 'buffer_overflow': 'u2r', 'ftp_write': 'r2l', 'guess_passwd': 'r2l', 'imap': 'r2l', 'ipsweep': 'probe', 'land': 'dos', 'loadmodule': 'u2r', 'multihop': 'r2l', 'neptune': 'dos', 'nmap': 'probe', 'perl': 'u2r', 'phf': 'r2l', 'pod': 'dos', 'portsweep': 'probe', 'rootkit': 'u2r', 'satan': 'probe', 'smurf': 'dos', 'spy': 'r2l', 'teardrop': 'dos', 'warezclient': 'r2l', 'warezmaster': 'r2l'}\n"
     ]
    }
   ],
   "source": [
    "attacks_types = {\n",
    "'normal': 'normal',\n",
    "'back': 'dos',\n",
    "'buffer_overflow': 'u2r',\n",
    "'ftp_write': 'r2l',\n",
    "'guess_passwd': 'r2l',\n",
    "'imap': 'r2l',\n",
    "'ipsweep': 'probe',\n",
    "'land': 'dos',\n",
    "'loadmodule': 'u2r',\n",
    "'multihop': 'r2l',\n",
    "'neptune': 'dos',\n",
    "'nmap': 'probe',\n",
    "'perl': 'u2r',\n",
    "'phf': 'r2l',\n",
    "\"pod\": 'dos',\n",
    "'portsweep': 'probe',\n",
    "'rootkit': 'u2r',\n",
    "'satan': 'probe',\n",
    "'smurf': 'dos',\n",
    "'spy': 'r2l',\n",
    "'teardrop': 'dos',\n",
    "'warezclient': 'r2l',\n",
    "'warezmaster': 'r2l',\n",
    "}\n",
    "print(len(attacks_types))\n",
    "print(attacks_types)"
   ]
  },
  {
   "cell_type": "code",
   "execution_count": 6,
   "id": "9d83af84",
   "metadata": {},
   "outputs": [
    {
     "data": {
      "text/html": [
       "<div>\n",
       "<style scoped>\n",
       "    .dataframe tbody tr th:only-of-type {\n",
       "        vertical-align: middle;\n",
       "    }\n",
       "\n",
       "    .dataframe tbody tr th {\n",
       "        vertical-align: top;\n",
       "    }\n",
       "\n",
       "    .dataframe thead th {\n",
       "        text-align: right;\n",
       "    }\n",
       "</style>\n",
       "<table border=\"1\" class=\"dataframe\">\n",
       "  <thead>\n",
       "    <tr style=\"text-align: right;\">\n",
       "      <th></th>\n",
       "      <th>duration</th>\n",
       "      <th>protocol type</th>\n",
       "      <th>service</th>\n",
       "      <th>flag</th>\n",
       "      <th>src bytes</th>\n",
       "      <th>dst bytes</th>\n",
       "      <th>Land</th>\n",
       "      <th>wrong fragment</th>\n",
       "      <th>urgent</th>\n",
       "      <th>hot</th>\n",
       "      <th>...</th>\n",
       "      <th>dst host same srv_rate</th>\n",
       "      <th>dst host diff sry rate</th>\n",
       "      <th>dst host same src port rate</th>\n",
       "      <th>dst host srv_serror_rate</th>\n",
       "      <th>dst_host_srv_diff_host_rate</th>\n",
       "      <th>dst host serror_rate</th>\n",
       "      <th>dst host_rerror_rate</th>\n",
       "      <th>dst_host_srv_rerror_rate</th>\n",
       "      <th>target</th>\n",
       "      <th>Attack Type</th>\n",
       "    </tr>\n",
       "  </thead>\n",
       "  <tbody>\n",
       "    <tr>\n",
       "      <th>0</th>\n",
       "      <td>0</td>\n",
       "      <td>tcp</td>\n",
       "      <td>http</td>\n",
       "      <td>SF</td>\n",
       "      <td>181</td>\n",
       "      <td>5450</td>\n",
       "      <td>0</td>\n",
       "      <td>0</td>\n",
       "      <td>0</td>\n",
       "      <td>0</td>\n",
       "      <td>...</td>\n",
       "      <td>1.0</td>\n",
       "      <td>0.0</td>\n",
       "      <td>0.11</td>\n",
       "      <td>0.00</td>\n",
       "      <td>0.0</td>\n",
       "      <td>0.0</td>\n",
       "      <td>0.0</td>\n",
       "      <td>0.0</td>\n",
       "      <td>normal.</td>\n",
       "      <td>normal</td>\n",
       "    </tr>\n",
       "    <tr>\n",
       "      <th>1</th>\n",
       "      <td>0</td>\n",
       "      <td>tcp</td>\n",
       "      <td>http</td>\n",
       "      <td>SF</td>\n",
       "      <td>239</td>\n",
       "      <td>486</td>\n",
       "      <td>0</td>\n",
       "      <td>0</td>\n",
       "      <td>0</td>\n",
       "      <td>0</td>\n",
       "      <td>...</td>\n",
       "      <td>1.0</td>\n",
       "      <td>0.0</td>\n",
       "      <td>0.05</td>\n",
       "      <td>0.00</td>\n",
       "      <td>0.0</td>\n",
       "      <td>0.0</td>\n",
       "      <td>0.0</td>\n",
       "      <td>0.0</td>\n",
       "      <td>normal.</td>\n",
       "      <td>normal</td>\n",
       "    </tr>\n",
       "    <tr>\n",
       "      <th>2</th>\n",
       "      <td>0</td>\n",
       "      <td>tcp</td>\n",
       "      <td>http</td>\n",
       "      <td>SF</td>\n",
       "      <td>235</td>\n",
       "      <td>1337</td>\n",
       "      <td>0</td>\n",
       "      <td>0</td>\n",
       "      <td>0</td>\n",
       "      <td>0</td>\n",
       "      <td>...</td>\n",
       "      <td>1.0</td>\n",
       "      <td>0.0</td>\n",
       "      <td>0.03</td>\n",
       "      <td>0.00</td>\n",
       "      <td>0.0</td>\n",
       "      <td>0.0</td>\n",
       "      <td>0.0</td>\n",
       "      <td>0.0</td>\n",
       "      <td>normal.</td>\n",
       "      <td>normal</td>\n",
       "    </tr>\n",
       "    <tr>\n",
       "      <th>3</th>\n",
       "      <td>0</td>\n",
       "      <td>tcp</td>\n",
       "      <td>http</td>\n",
       "      <td>SF</td>\n",
       "      <td>219</td>\n",
       "      <td>1337</td>\n",
       "      <td>0</td>\n",
       "      <td>0</td>\n",
       "      <td>0</td>\n",
       "      <td>0</td>\n",
       "      <td>...</td>\n",
       "      <td>1.0</td>\n",
       "      <td>0.0</td>\n",
       "      <td>0.03</td>\n",
       "      <td>0.00</td>\n",
       "      <td>0.0</td>\n",
       "      <td>0.0</td>\n",
       "      <td>0.0</td>\n",
       "      <td>0.0</td>\n",
       "      <td>normal.</td>\n",
       "      <td>normal</td>\n",
       "    </tr>\n",
       "    <tr>\n",
       "      <th>4</th>\n",
       "      <td>0</td>\n",
       "      <td>tcp</td>\n",
       "      <td>http</td>\n",
       "      <td>SF</td>\n",
       "      <td>217</td>\n",
       "      <td>2032</td>\n",
       "      <td>0</td>\n",
       "      <td>0</td>\n",
       "      <td>0</td>\n",
       "      <td>0</td>\n",
       "      <td>...</td>\n",
       "      <td>1.0</td>\n",
       "      <td>0.0</td>\n",
       "      <td>0.02</td>\n",
       "      <td>0.00</td>\n",
       "      <td>0.0</td>\n",
       "      <td>0.0</td>\n",
       "      <td>0.0</td>\n",
       "      <td>0.0</td>\n",
       "      <td>normal.</td>\n",
       "      <td>normal</td>\n",
       "    </tr>\n",
       "    <tr>\n",
       "      <th>5</th>\n",
       "      <td>0</td>\n",
       "      <td>tcp</td>\n",
       "      <td>http</td>\n",
       "      <td>SF</td>\n",
       "      <td>217</td>\n",
       "      <td>2032</td>\n",
       "      <td>0</td>\n",
       "      <td>0</td>\n",
       "      <td>0</td>\n",
       "      <td>0</td>\n",
       "      <td>...</td>\n",
       "      <td>1.0</td>\n",
       "      <td>0.0</td>\n",
       "      <td>0.02</td>\n",
       "      <td>0.00</td>\n",
       "      <td>0.0</td>\n",
       "      <td>0.0</td>\n",
       "      <td>0.0</td>\n",
       "      <td>0.0</td>\n",
       "      <td>normal.</td>\n",
       "      <td>normal</td>\n",
       "    </tr>\n",
       "    <tr>\n",
       "      <th>6</th>\n",
       "      <td>0</td>\n",
       "      <td>tcp</td>\n",
       "      <td>http</td>\n",
       "      <td>SF</td>\n",
       "      <td>212</td>\n",
       "      <td>1940</td>\n",
       "      <td>0</td>\n",
       "      <td>0</td>\n",
       "      <td>0</td>\n",
       "      <td>0</td>\n",
       "      <td>...</td>\n",
       "      <td>1.0</td>\n",
       "      <td>0.0</td>\n",
       "      <td>1.00</td>\n",
       "      <td>0.04</td>\n",
       "      <td>0.0</td>\n",
       "      <td>0.0</td>\n",
       "      <td>0.0</td>\n",
       "      <td>0.0</td>\n",
       "      <td>normal.</td>\n",
       "      <td>normal</td>\n",
       "    </tr>\n",
       "    <tr>\n",
       "      <th>7</th>\n",
       "      <td>0</td>\n",
       "      <td>tcp</td>\n",
       "      <td>http</td>\n",
       "      <td>SF</td>\n",
       "      <td>159</td>\n",
       "      <td>4087</td>\n",
       "      <td>0</td>\n",
       "      <td>0</td>\n",
       "      <td>0</td>\n",
       "      <td>0</td>\n",
       "      <td>...</td>\n",
       "      <td>1.0</td>\n",
       "      <td>0.0</td>\n",
       "      <td>0.09</td>\n",
       "      <td>0.04</td>\n",
       "      <td>0.0</td>\n",
       "      <td>0.0</td>\n",
       "      <td>0.0</td>\n",
       "      <td>0.0</td>\n",
       "      <td>normal.</td>\n",
       "      <td>normal</td>\n",
       "    </tr>\n",
       "    <tr>\n",
       "      <th>8</th>\n",
       "      <td>0</td>\n",
       "      <td>tcp</td>\n",
       "      <td>http</td>\n",
       "      <td>SF</td>\n",
       "      <td>210</td>\n",
       "      <td>151</td>\n",
       "      <td>0</td>\n",
       "      <td>0</td>\n",
       "      <td>0</td>\n",
       "      <td>0</td>\n",
       "      <td>...</td>\n",
       "      <td>1.0</td>\n",
       "      <td>0.0</td>\n",
       "      <td>0.12</td>\n",
       "      <td>0.04</td>\n",
       "      <td>0.0</td>\n",
       "      <td>0.0</td>\n",
       "      <td>0.0</td>\n",
       "      <td>0.0</td>\n",
       "      <td>normal.</td>\n",
       "      <td>normal</td>\n",
       "    </tr>\n",
       "    <tr>\n",
       "      <th>9</th>\n",
       "      <td>0</td>\n",
       "      <td>tcp</td>\n",
       "      <td>http</td>\n",
       "      <td>SF</td>\n",
       "      <td>212</td>\n",
       "      <td>786</td>\n",
       "      <td>0</td>\n",
       "      <td>0</td>\n",
       "      <td>0</td>\n",
       "      <td>1</td>\n",
       "      <td>...</td>\n",
       "      <td>1.0</td>\n",
       "      <td>0.0</td>\n",
       "      <td>0.12</td>\n",
       "      <td>0.05</td>\n",
       "      <td>0.0</td>\n",
       "      <td>0.0</td>\n",
       "      <td>0.0</td>\n",
       "      <td>0.0</td>\n",
       "      <td>normal.</td>\n",
       "      <td>normal</td>\n",
       "    </tr>\n",
       "    <tr>\n",
       "      <th>10</th>\n",
       "      <td>0</td>\n",
       "      <td>tcp</td>\n",
       "      <td>http</td>\n",
       "      <td>SF</td>\n",
       "      <td>210</td>\n",
       "      <td>624</td>\n",
       "      <td>0</td>\n",
       "      <td>0</td>\n",
       "      <td>0</td>\n",
       "      <td>0</td>\n",
       "      <td>...</td>\n",
       "      <td>1.0</td>\n",
       "      <td>0.0</td>\n",
       "      <td>0.06</td>\n",
       "      <td>0.05</td>\n",
       "      <td>0.0</td>\n",
       "      <td>0.0</td>\n",
       "      <td>0.0</td>\n",
       "      <td>0.0</td>\n",
       "      <td>normal.</td>\n",
       "      <td>normal</td>\n",
       "    </tr>\n",
       "    <tr>\n",
       "      <th>11</th>\n",
       "      <td>0</td>\n",
       "      <td>tcp</td>\n",
       "      <td>http</td>\n",
       "      <td>SF</td>\n",
       "      <td>177</td>\n",
       "      <td>1985</td>\n",
       "      <td>0</td>\n",
       "      <td>0</td>\n",
       "      <td>0</td>\n",
       "      <td>0</td>\n",
       "      <td>...</td>\n",
       "      <td>1.0</td>\n",
       "      <td>0.0</td>\n",
       "      <td>0.04</td>\n",
       "      <td>0.04</td>\n",
       "      <td>0.0</td>\n",
       "      <td>0.0</td>\n",
       "      <td>0.0</td>\n",
       "      <td>0.0</td>\n",
       "      <td>normal.</td>\n",
       "      <td>normal</td>\n",
       "    </tr>\n",
       "    <tr>\n",
       "      <th>12</th>\n",
       "      <td>0</td>\n",
       "      <td>tcp</td>\n",
       "      <td>http</td>\n",
       "      <td>SF</td>\n",
       "      <td>222</td>\n",
       "      <td>773</td>\n",
       "      <td>0</td>\n",
       "      <td>0</td>\n",
       "      <td>0</td>\n",
       "      <td>0</td>\n",
       "      <td>...</td>\n",
       "      <td>1.0</td>\n",
       "      <td>0.0</td>\n",
       "      <td>0.03</td>\n",
       "      <td>0.04</td>\n",
       "      <td>0.0</td>\n",
       "      <td>0.0</td>\n",
       "      <td>0.0</td>\n",
       "      <td>0.0</td>\n",
       "      <td>normal.</td>\n",
       "      <td>normal</td>\n",
       "    </tr>\n",
       "    <tr>\n",
       "      <th>13</th>\n",
       "      <td>0</td>\n",
       "      <td>tcp</td>\n",
       "      <td>http</td>\n",
       "      <td>SF</td>\n",
       "      <td>256</td>\n",
       "      <td>1169</td>\n",
       "      <td>0</td>\n",
       "      <td>0</td>\n",
       "      <td>0</td>\n",
       "      <td>0</td>\n",
       "      <td>...</td>\n",
       "      <td>1.0</td>\n",
       "      <td>0.0</td>\n",
       "      <td>0.25</td>\n",
       "      <td>0.04</td>\n",
       "      <td>0.0</td>\n",
       "      <td>0.0</td>\n",
       "      <td>0.0</td>\n",
       "      <td>0.0</td>\n",
       "      <td>normal.</td>\n",
       "      <td>normal</td>\n",
       "    </tr>\n",
       "    <tr>\n",
       "      <th>14</th>\n",
       "      <td>0</td>\n",
       "      <td>tcp</td>\n",
       "      <td>http</td>\n",
       "      <td>SF</td>\n",
       "      <td>241</td>\n",
       "      <td>259</td>\n",
       "      <td>0</td>\n",
       "      <td>0</td>\n",
       "      <td>0</td>\n",
       "      <td>0</td>\n",
       "      <td>...</td>\n",
       "      <td>1.0</td>\n",
       "      <td>0.0</td>\n",
       "      <td>0.07</td>\n",
       "      <td>0.04</td>\n",
       "      <td>0.0</td>\n",
       "      <td>0.0</td>\n",
       "      <td>0.0</td>\n",
       "      <td>0.0</td>\n",
       "      <td>normal.</td>\n",
       "      <td>normal</td>\n",
       "    </tr>\n",
       "    <tr>\n",
       "      <th>15</th>\n",
       "      <td>0</td>\n",
       "      <td>tcp</td>\n",
       "      <td>http</td>\n",
       "      <td>SF</td>\n",
       "      <td>260</td>\n",
       "      <td>1837</td>\n",
       "      <td>0</td>\n",
       "      <td>0</td>\n",
       "      <td>0</td>\n",
       "      <td>0</td>\n",
       "      <td>...</td>\n",
       "      <td>1.0</td>\n",
       "      <td>0.0</td>\n",
       "      <td>0.04</td>\n",
       "      <td>0.04</td>\n",
       "      <td>0.0</td>\n",
       "      <td>0.0</td>\n",
       "      <td>0.0</td>\n",
       "      <td>0.0</td>\n",
       "      <td>normal.</td>\n",
       "      <td>normal</td>\n",
       "    </tr>\n",
       "    <tr>\n",
       "      <th>16</th>\n",
       "      <td>0</td>\n",
       "      <td>tcp</td>\n",
       "      <td>http</td>\n",
       "      <td>SF</td>\n",
       "      <td>241</td>\n",
       "      <td>261</td>\n",
       "      <td>0</td>\n",
       "      <td>0</td>\n",
       "      <td>0</td>\n",
       "      <td>0</td>\n",
       "      <td>...</td>\n",
       "      <td>1.0</td>\n",
       "      <td>0.0</td>\n",
       "      <td>0.03</td>\n",
       "      <td>0.04</td>\n",
       "      <td>0.0</td>\n",
       "      <td>0.0</td>\n",
       "      <td>0.0</td>\n",
       "      <td>0.0</td>\n",
       "      <td>normal.</td>\n",
       "      <td>normal</td>\n",
       "    </tr>\n",
       "    <tr>\n",
       "      <th>17</th>\n",
       "      <td>0</td>\n",
       "      <td>tcp</td>\n",
       "      <td>http</td>\n",
       "      <td>SF</td>\n",
       "      <td>257</td>\n",
       "      <td>818</td>\n",
       "      <td>0</td>\n",
       "      <td>0</td>\n",
       "      <td>0</td>\n",
       "      <td>0</td>\n",
       "      <td>...</td>\n",
       "      <td>1.0</td>\n",
       "      <td>0.0</td>\n",
       "      <td>0.02</td>\n",
       "      <td>0.03</td>\n",
       "      <td>0.0</td>\n",
       "      <td>0.0</td>\n",
       "      <td>0.0</td>\n",
       "      <td>0.0</td>\n",
       "      <td>normal.</td>\n",
       "      <td>normal</td>\n",
       "    </tr>\n",
       "    <tr>\n",
       "      <th>18</th>\n",
       "      <td>0</td>\n",
       "      <td>tcp</td>\n",
       "      <td>http</td>\n",
       "      <td>SF</td>\n",
       "      <td>233</td>\n",
       "      <td>255</td>\n",
       "      <td>0</td>\n",
       "      <td>0</td>\n",
       "      <td>0</td>\n",
       "      <td>0</td>\n",
       "      <td>...</td>\n",
       "      <td>1.0</td>\n",
       "      <td>0.0</td>\n",
       "      <td>0.02</td>\n",
       "      <td>0.03</td>\n",
       "      <td>0.0</td>\n",
       "      <td>0.0</td>\n",
       "      <td>0.0</td>\n",
       "      <td>0.0</td>\n",
       "      <td>normal.</td>\n",
       "      <td>normal</td>\n",
       "    </tr>\n",
       "    <tr>\n",
       "      <th>19</th>\n",
       "      <td>0</td>\n",
       "      <td>tcp</td>\n",
       "      <td>http</td>\n",
       "      <td>SF</td>\n",
       "      <td>233</td>\n",
       "      <td>504</td>\n",
       "      <td>0</td>\n",
       "      <td>0</td>\n",
       "      <td>0</td>\n",
       "      <td>0</td>\n",
       "      <td>...</td>\n",
       "      <td>1.0</td>\n",
       "      <td>0.0</td>\n",
       "      <td>0.02</td>\n",
       "      <td>0.03</td>\n",
       "      <td>0.0</td>\n",
       "      <td>0.0</td>\n",
       "      <td>0.0</td>\n",
       "      <td>0.0</td>\n",
       "      <td>normal.</td>\n",
       "      <td>normal</td>\n",
       "    </tr>\n",
       "    <tr>\n",
       "      <th>20</th>\n",
       "      <td>0</td>\n",
       "      <td>tcp</td>\n",
       "      <td>http</td>\n",
       "      <td>SF</td>\n",
       "      <td>256</td>\n",
       "      <td>1273</td>\n",
       "      <td>0</td>\n",
       "      <td>0</td>\n",
       "      <td>0</td>\n",
       "      <td>0</td>\n",
       "      <td>...</td>\n",
       "      <td>1.0</td>\n",
       "      <td>0.0</td>\n",
       "      <td>0.01</td>\n",
       "      <td>0.03</td>\n",
       "      <td>0.0</td>\n",
       "      <td>0.0</td>\n",
       "      <td>0.0</td>\n",
       "      <td>0.0</td>\n",
       "      <td>normal.</td>\n",
       "      <td>normal</td>\n",
       "    </tr>\n",
       "    <tr>\n",
       "      <th>21</th>\n",
       "      <td>0</td>\n",
       "      <td>tcp</td>\n",
       "      <td>http</td>\n",
       "      <td>SF</td>\n",
       "      <td>234</td>\n",
       "      <td>255</td>\n",
       "      <td>0</td>\n",
       "      <td>0</td>\n",
       "      <td>0</td>\n",
       "      <td>0</td>\n",
       "      <td>...</td>\n",
       "      <td>1.0</td>\n",
       "      <td>0.0</td>\n",
       "      <td>0.01</td>\n",
       "      <td>0.03</td>\n",
       "      <td>0.0</td>\n",
       "      <td>0.0</td>\n",
       "      <td>0.0</td>\n",
       "      <td>0.0</td>\n",
       "      <td>normal.</td>\n",
       "      <td>normal</td>\n",
       "    </tr>\n",
       "    <tr>\n",
       "      <th>22</th>\n",
       "      <td>0</td>\n",
       "      <td>tcp</td>\n",
       "      <td>http</td>\n",
       "      <td>SF</td>\n",
       "      <td>241</td>\n",
       "      <td>259</td>\n",
       "      <td>0</td>\n",
       "      <td>0</td>\n",
       "      <td>0</td>\n",
       "      <td>0</td>\n",
       "      <td>...</td>\n",
       "      <td>1.0</td>\n",
       "      <td>0.0</td>\n",
       "      <td>0.01</td>\n",
       "      <td>0.03</td>\n",
       "      <td>0.0</td>\n",
       "      <td>0.0</td>\n",
       "      <td>0.0</td>\n",
       "      <td>0.0</td>\n",
       "      <td>normal.</td>\n",
       "      <td>normal</td>\n",
       "    </tr>\n",
       "    <tr>\n",
       "      <th>23</th>\n",
       "      <td>0</td>\n",
       "      <td>tcp</td>\n",
       "      <td>http</td>\n",
       "      <td>SF</td>\n",
       "      <td>239</td>\n",
       "      <td>968</td>\n",
       "      <td>0</td>\n",
       "      <td>0</td>\n",
       "      <td>0</td>\n",
       "      <td>0</td>\n",
       "      <td>...</td>\n",
       "      <td>1.0</td>\n",
       "      <td>0.0</td>\n",
       "      <td>0.33</td>\n",
       "      <td>0.03</td>\n",
       "      <td>0.0</td>\n",
       "      <td>0.0</td>\n",
       "      <td>0.0</td>\n",
       "      <td>0.0</td>\n",
       "      <td>normal.</td>\n",
       "      <td>normal</td>\n",
       "    </tr>\n",
       "    <tr>\n",
       "      <th>24</th>\n",
       "      <td>0</td>\n",
       "      <td>tcp</td>\n",
       "      <td>http</td>\n",
       "      <td>SF</td>\n",
       "      <td>245</td>\n",
       "      <td>1919</td>\n",
       "      <td>0</td>\n",
       "      <td>0</td>\n",
       "      <td>0</td>\n",
       "      <td>0</td>\n",
       "      <td>...</td>\n",
       "      <td>1.0</td>\n",
       "      <td>0.0</td>\n",
       "      <td>0.08</td>\n",
       "      <td>0.03</td>\n",
       "      <td>0.0</td>\n",
       "      <td>0.0</td>\n",
       "      <td>0.0</td>\n",
       "      <td>0.0</td>\n",
       "      <td>normal.</td>\n",
       "      <td>normal</td>\n",
       "    </tr>\n",
       "    <tr>\n",
       "      <th>25</th>\n",
       "      <td>0</td>\n",
       "      <td>tcp</td>\n",
       "      <td>http</td>\n",
       "      <td>SF</td>\n",
       "      <td>248</td>\n",
       "      <td>2129</td>\n",
       "      <td>0</td>\n",
       "      <td>0</td>\n",
       "      <td>0</td>\n",
       "      <td>0</td>\n",
       "      <td>...</td>\n",
       "      <td>1.0</td>\n",
       "      <td>0.0</td>\n",
       "      <td>0.04</td>\n",
       "      <td>0.03</td>\n",
       "      <td>0.0</td>\n",
       "      <td>0.0</td>\n",
       "      <td>0.0</td>\n",
       "      <td>0.0</td>\n",
       "      <td>normal.</td>\n",
       "      <td>normal</td>\n",
       "    </tr>\n",
       "    <tr>\n",
       "      <th>26</th>\n",
       "      <td>0</td>\n",
       "      <td>tcp</td>\n",
       "      <td>http</td>\n",
       "      <td>SF</td>\n",
       "      <td>354</td>\n",
       "      <td>1752</td>\n",
       "      <td>0</td>\n",
       "      <td>0</td>\n",
       "      <td>0</td>\n",
       "      <td>0</td>\n",
       "      <td>...</td>\n",
       "      <td>1.0</td>\n",
       "      <td>0.0</td>\n",
       "      <td>0.20</td>\n",
       "      <td>0.04</td>\n",
       "      <td>0.0</td>\n",
       "      <td>0.0</td>\n",
       "      <td>0.0</td>\n",
       "      <td>0.0</td>\n",
       "      <td>normal.</td>\n",
       "      <td>normal</td>\n",
       "    </tr>\n",
       "    <tr>\n",
       "      <th>27</th>\n",
       "      <td>0</td>\n",
       "      <td>tcp</td>\n",
       "      <td>http</td>\n",
       "      <td>SF</td>\n",
       "      <td>193</td>\n",
       "      <td>3991</td>\n",
       "      <td>0</td>\n",
       "      <td>0</td>\n",
       "      <td>0</td>\n",
       "      <td>0</td>\n",
       "      <td>...</td>\n",
       "      <td>1.0</td>\n",
       "      <td>0.0</td>\n",
       "      <td>1.00</td>\n",
       "      <td>0.05</td>\n",
       "      <td>0.0</td>\n",
       "      <td>0.0</td>\n",
       "      <td>0.0</td>\n",
       "      <td>0.0</td>\n",
       "      <td>normal.</td>\n",
       "      <td>normal</td>\n",
       "    </tr>\n",
       "    <tr>\n",
       "      <th>28</th>\n",
       "      <td>0</td>\n",
       "      <td>tcp</td>\n",
       "      <td>http</td>\n",
       "      <td>SF</td>\n",
       "      <td>214</td>\n",
       "      <td>14959</td>\n",
       "      <td>0</td>\n",
       "      <td>0</td>\n",
       "      <td>0</td>\n",
       "      <td>0</td>\n",
       "      <td>...</td>\n",
       "      <td>1.0</td>\n",
       "      <td>0.0</td>\n",
       "      <td>0.09</td>\n",
       "      <td>0.05</td>\n",
       "      <td>0.0</td>\n",
       "      <td>0.0</td>\n",
       "      <td>0.0</td>\n",
       "      <td>0.0</td>\n",
       "      <td>normal.</td>\n",
       "      <td>normal</td>\n",
       "    </tr>\n",
       "    <tr>\n",
       "      <th>29</th>\n",
       "      <td>0</td>\n",
       "      <td>tcp</td>\n",
       "      <td>http</td>\n",
       "      <td>SF</td>\n",
       "      <td>212</td>\n",
       "      <td>1309</td>\n",
       "      <td>0</td>\n",
       "      <td>0</td>\n",
       "      <td>0</td>\n",
       "      <td>0</td>\n",
       "      <td>...</td>\n",
       "      <td>1.0</td>\n",
       "      <td>0.0</td>\n",
       "      <td>0.05</td>\n",
       "      <td>0.05</td>\n",
       "      <td>0.0</td>\n",
       "      <td>0.0</td>\n",
       "      <td>0.0</td>\n",
       "      <td>0.0</td>\n",
       "      <td>normal.</td>\n",
       "      <td>normal</td>\n",
       "    </tr>\n",
       "    <tr>\n",
       "      <th>30</th>\n",
       "      <td>0</td>\n",
       "      <td>tcp</td>\n",
       "      <td>http</td>\n",
       "      <td>SF</td>\n",
       "      <td>215</td>\n",
       "      <td>3670</td>\n",
       "      <td>0</td>\n",
       "      <td>0</td>\n",
       "      <td>0</td>\n",
       "      <td>0</td>\n",
       "      <td>...</td>\n",
       "      <td>1.0</td>\n",
       "      <td>0.0</td>\n",
       "      <td>0.03</td>\n",
       "      <td>0.05</td>\n",
       "      <td>0.0</td>\n",
       "      <td>0.0</td>\n",
       "      <td>0.0</td>\n",
       "      <td>0.0</td>\n",
       "      <td>normal.</td>\n",
       "      <td>normal</td>\n",
       "    </tr>\n",
       "    <tr>\n",
       "      <th>31</th>\n",
       "      <td>0</td>\n",
       "      <td>tcp</td>\n",
       "      <td>http</td>\n",
       "      <td>SF</td>\n",
       "      <td>217</td>\n",
       "      <td>18434</td>\n",
       "      <td>0</td>\n",
       "      <td>0</td>\n",
       "      <td>0</td>\n",
       "      <td>0</td>\n",
       "      <td>...</td>\n",
       "      <td>1.0</td>\n",
       "      <td>0.0</td>\n",
       "      <td>0.02</td>\n",
       "      <td>0.05</td>\n",
       "      <td>0.0</td>\n",
       "      <td>0.0</td>\n",
       "      <td>0.0</td>\n",
       "      <td>0.0</td>\n",
       "      <td>normal.</td>\n",
       "      <td>normal</td>\n",
       "    </tr>\n",
       "    <tr>\n",
       "      <th>32</th>\n",
       "      <td>0</td>\n",
       "      <td>tcp</td>\n",
       "      <td>http</td>\n",
       "      <td>SF</td>\n",
       "      <td>205</td>\n",
       "      <td>424</td>\n",
       "      <td>0</td>\n",
       "      <td>0</td>\n",
       "      <td>0</td>\n",
       "      <td>0</td>\n",
       "      <td>...</td>\n",
       "      <td>1.0</td>\n",
       "      <td>0.0</td>\n",
       "      <td>0.50</td>\n",
       "      <td>0.05</td>\n",
       "      <td>0.0</td>\n",
       "      <td>0.0</td>\n",
       "      <td>0.0</td>\n",
       "      <td>0.0</td>\n",
       "      <td>normal.</td>\n",
       "      <td>normal</td>\n",
       "    </tr>\n",
       "    <tr>\n",
       "      <th>33</th>\n",
       "      <td>0</td>\n",
       "      <td>tcp</td>\n",
       "      <td>http</td>\n",
       "      <td>SF</td>\n",
       "      <td>155</td>\n",
       "      <td>424</td>\n",
       "      <td>0</td>\n",
       "      <td>0</td>\n",
       "      <td>0</td>\n",
       "      <td>0</td>\n",
       "      <td>...</td>\n",
       "      <td>1.0</td>\n",
       "      <td>0.0</td>\n",
       "      <td>0.08</td>\n",
       "      <td>0.05</td>\n",
       "      <td>0.0</td>\n",
       "      <td>0.0</td>\n",
       "      <td>0.0</td>\n",
       "      <td>0.0</td>\n",
       "      <td>normal.</td>\n",
       "      <td>normal</td>\n",
       "    </tr>\n",
       "    <tr>\n",
       "      <th>34</th>\n",
       "      <td>0</td>\n",
       "      <td>tcp</td>\n",
       "      <td>http</td>\n",
       "      <td>SF</td>\n",
       "      <td>202</td>\n",
       "      <td>424</td>\n",
       "      <td>0</td>\n",
       "      <td>0</td>\n",
       "      <td>0</td>\n",
       "      <td>0</td>\n",
       "      <td>...</td>\n",
       "      <td>1.0</td>\n",
       "      <td>0.0</td>\n",
       "      <td>0.05</td>\n",
       "      <td>0.05</td>\n",
       "      <td>0.0</td>\n",
       "      <td>0.0</td>\n",
       "      <td>0.0</td>\n",
       "      <td>0.0</td>\n",
       "      <td>normal.</td>\n",
       "      <td>normal</td>\n",
       "    </tr>\n",
       "    <tr>\n",
       "      <th>35</th>\n",
       "      <td>0</td>\n",
       "      <td>tcp</td>\n",
       "      <td>http</td>\n",
       "      <td>SF</td>\n",
       "      <td>235</td>\n",
       "      <td>6627</td>\n",
       "      <td>0</td>\n",
       "      <td>0</td>\n",
       "      <td>0</td>\n",
       "      <td>0</td>\n",
       "      <td>...</td>\n",
       "      <td>1.0</td>\n",
       "      <td>0.0</td>\n",
       "      <td>0.03</td>\n",
       "      <td>0.05</td>\n",
       "      <td>0.0</td>\n",
       "      <td>0.0</td>\n",
       "      <td>0.0</td>\n",
       "      <td>0.0</td>\n",
       "      <td>normal.</td>\n",
       "      <td>normal</td>\n",
       "    </tr>\n",
       "    <tr>\n",
       "      <th>36</th>\n",
       "      <td>0</td>\n",
       "      <td>tcp</td>\n",
       "      <td>http</td>\n",
       "      <td>SF</td>\n",
       "      <td>259</td>\n",
       "      <td>3917</td>\n",
       "      <td>0</td>\n",
       "      <td>0</td>\n",
       "      <td>0</td>\n",
       "      <td>0</td>\n",
       "      <td>...</td>\n",
       "      <td>1.0</td>\n",
       "      <td>0.0</td>\n",
       "      <td>0.02</td>\n",
       "      <td>0.05</td>\n",
       "      <td>0.0</td>\n",
       "      <td>0.0</td>\n",
       "      <td>0.0</td>\n",
       "      <td>0.0</td>\n",
       "      <td>normal.</td>\n",
       "      <td>normal</td>\n",
       "    </tr>\n",
       "    <tr>\n",
       "      <th>37</th>\n",
       "      <td>0</td>\n",
       "      <td>tcp</td>\n",
       "      <td>http</td>\n",
       "      <td>SF</td>\n",
       "      <td>301</td>\n",
       "      <td>2653</td>\n",
       "      <td>0</td>\n",
       "      <td>0</td>\n",
       "      <td>0</td>\n",
       "      <td>0</td>\n",
       "      <td>...</td>\n",
       "      <td>1.0</td>\n",
       "      <td>0.0</td>\n",
       "      <td>0.02</td>\n",
       "      <td>0.05</td>\n",
       "      <td>0.0</td>\n",
       "      <td>0.0</td>\n",
       "      <td>0.0</td>\n",
       "      <td>0.0</td>\n",
       "      <td>normal.</td>\n",
       "      <td>normal</td>\n",
       "    </tr>\n",
       "    <tr>\n",
       "      <th>38</th>\n",
       "      <td>0</td>\n",
       "      <td>tcp</td>\n",
       "      <td>http</td>\n",
       "      <td>SF</td>\n",
       "      <td>322</td>\n",
       "      <td>424</td>\n",
       "      <td>0</td>\n",
       "      <td>0</td>\n",
       "      <td>0</td>\n",
       "      <td>0</td>\n",
       "      <td>...</td>\n",
       "      <td>1.0</td>\n",
       "      <td>0.0</td>\n",
       "      <td>0.02</td>\n",
       "      <td>0.05</td>\n",
       "      <td>0.0</td>\n",
       "      <td>0.0</td>\n",
       "      <td>0.0</td>\n",
       "      <td>0.0</td>\n",
       "      <td>normal.</td>\n",
       "      <td>normal</td>\n",
       "    </tr>\n",
       "    <tr>\n",
       "      <th>39</th>\n",
       "      <td>0</td>\n",
       "      <td>tcp</td>\n",
       "      <td>http</td>\n",
       "      <td>SF</td>\n",
       "      <td>370</td>\n",
       "      <td>520</td>\n",
       "      <td>0</td>\n",
       "      <td>0</td>\n",
       "      <td>0</td>\n",
       "      <td>0</td>\n",
       "      <td>...</td>\n",
       "      <td>1.0</td>\n",
       "      <td>0.0</td>\n",
       "      <td>0.01</td>\n",
       "      <td>0.04</td>\n",
       "      <td>0.0</td>\n",
       "      <td>0.0</td>\n",
       "      <td>0.0</td>\n",
       "      <td>0.0</td>\n",
       "      <td>normal.</td>\n",
       "      <td>normal</td>\n",
       "    </tr>\n",
       "    <tr>\n",
       "      <th>40</th>\n",
       "      <td>0</td>\n",
       "      <td>tcp</td>\n",
       "      <td>http</td>\n",
       "      <td>SF</td>\n",
       "      <td>370</td>\n",
       "      <td>520</td>\n",
       "      <td>0</td>\n",
       "      <td>0</td>\n",
       "      <td>0</td>\n",
       "      <td>0</td>\n",
       "      <td>...</td>\n",
       "      <td>1.0</td>\n",
       "      <td>0.0</td>\n",
       "      <td>0.01</td>\n",
       "      <td>0.04</td>\n",
       "      <td>0.0</td>\n",
       "      <td>0.0</td>\n",
       "      <td>0.0</td>\n",
       "      <td>0.0</td>\n",
       "      <td>normal.</td>\n",
       "      <td>normal</td>\n",
       "    </tr>\n",
       "    <tr>\n",
       "      <th>41</th>\n",
       "      <td>0</td>\n",
       "      <td>tcp</td>\n",
       "      <td>http</td>\n",
       "      <td>SF</td>\n",
       "      <td>172</td>\n",
       "      <td>5884</td>\n",
       "      <td>0</td>\n",
       "      <td>0</td>\n",
       "      <td>0</td>\n",
       "      <td>0</td>\n",
       "      <td>...</td>\n",
       "      <td>1.0</td>\n",
       "      <td>0.0</td>\n",
       "      <td>0.10</td>\n",
       "      <td>0.05</td>\n",
       "      <td>0.0</td>\n",
       "      <td>0.0</td>\n",
       "      <td>0.0</td>\n",
       "      <td>0.0</td>\n",
       "      <td>normal.</td>\n",
       "      <td>normal</td>\n",
       "    </tr>\n",
       "    <tr>\n",
       "      <th>42</th>\n",
       "      <td>0</td>\n",
       "      <td>tcp</td>\n",
       "      <td>http</td>\n",
       "      <td>SF</td>\n",
       "      <td>264</td>\n",
       "      <td>16123</td>\n",
       "      <td>0</td>\n",
       "      <td>0</td>\n",
       "      <td>0</td>\n",
       "      <td>0</td>\n",
       "      <td>...</td>\n",
       "      <td>1.0</td>\n",
       "      <td>0.0</td>\n",
       "      <td>0.05</td>\n",
       "      <td>0.05</td>\n",
       "      <td>0.0</td>\n",
       "      <td>0.0</td>\n",
       "      <td>0.0</td>\n",
       "      <td>0.0</td>\n",
       "      <td>normal.</td>\n",
       "      <td>normal</td>\n",
       "    </tr>\n",
       "    <tr>\n",
       "      <th>43</th>\n",
       "      <td>0</td>\n",
       "      <td>tcp</td>\n",
       "      <td>http</td>\n",
       "      <td>SF</td>\n",
       "      <td>255</td>\n",
       "      <td>1948</td>\n",
       "      <td>0</td>\n",
       "      <td>0</td>\n",
       "      <td>0</td>\n",
       "      <td>0</td>\n",
       "      <td>...</td>\n",
       "      <td>1.0</td>\n",
       "      <td>0.0</td>\n",
       "      <td>0.03</td>\n",
       "      <td>0.05</td>\n",
       "      <td>0.0</td>\n",
       "      <td>0.0</td>\n",
       "      <td>0.0</td>\n",
       "      <td>0.0</td>\n",
       "      <td>normal.</td>\n",
       "      <td>normal</td>\n",
       "    </tr>\n",
       "    <tr>\n",
       "      <th>44</th>\n",
       "      <td>0</td>\n",
       "      <td>tcp</td>\n",
       "      <td>http</td>\n",
       "      <td>SF</td>\n",
       "      <td>274</td>\n",
       "      <td>19790</td>\n",
       "      <td>0</td>\n",
       "      <td>0</td>\n",
       "      <td>0</td>\n",
       "      <td>0</td>\n",
       "      <td>...</td>\n",
       "      <td>1.0</td>\n",
       "      <td>0.0</td>\n",
       "      <td>0.03</td>\n",
       "      <td>0.05</td>\n",
       "      <td>0.0</td>\n",
       "      <td>0.0</td>\n",
       "      <td>0.0</td>\n",
       "      <td>0.0</td>\n",
       "      <td>normal.</td>\n",
       "      <td>normal</td>\n",
       "    </tr>\n",
       "    <tr>\n",
       "      <th>45</th>\n",
       "      <td>0</td>\n",
       "      <td>tcp</td>\n",
       "      <td>http</td>\n",
       "      <td>SF</td>\n",
       "      <td>313</td>\n",
       "      <td>293</td>\n",
       "      <td>0</td>\n",
       "      <td>0</td>\n",
       "      <td>0</td>\n",
       "      <td>0</td>\n",
       "      <td>...</td>\n",
       "      <td>1.0</td>\n",
       "      <td>0.0</td>\n",
       "      <td>0.33</td>\n",
       "      <td>0.05</td>\n",
       "      <td>0.0</td>\n",
       "      <td>0.0</td>\n",
       "      <td>0.0</td>\n",
       "      <td>0.0</td>\n",
       "      <td>normal.</td>\n",
       "      <td>normal</td>\n",
       "    </tr>\n",
       "    <tr>\n",
       "      <th>46</th>\n",
       "      <td>0</td>\n",
       "      <td>tcp</td>\n",
       "      <td>http</td>\n",
       "      <td>SF</td>\n",
       "      <td>145</td>\n",
       "      <td>4466</td>\n",
       "      <td>0</td>\n",
       "      <td>0</td>\n",
       "      <td>0</td>\n",
       "      <td>0</td>\n",
       "      <td>...</td>\n",
       "      <td>1.0</td>\n",
       "      <td>0.0</td>\n",
       "      <td>0.08</td>\n",
       "      <td>0.05</td>\n",
       "      <td>0.0</td>\n",
       "      <td>0.0</td>\n",
       "      <td>0.0</td>\n",
       "      <td>0.0</td>\n",
       "      <td>normal.</td>\n",
       "      <td>normal</td>\n",
       "    </tr>\n",
       "    <tr>\n",
       "      <th>47</th>\n",
       "      <td>0</td>\n",
       "      <td>tcp</td>\n",
       "      <td>http</td>\n",
       "      <td>SF</td>\n",
       "      <td>290</td>\n",
       "      <td>460</td>\n",
       "      <td>0</td>\n",
       "      <td>0</td>\n",
       "      <td>0</td>\n",
       "      <td>0</td>\n",
       "      <td>...</td>\n",
       "      <td>1.0</td>\n",
       "      <td>0.0</td>\n",
       "      <td>0.04</td>\n",
       "      <td>0.05</td>\n",
       "      <td>0.0</td>\n",
       "      <td>0.0</td>\n",
       "      <td>0.0</td>\n",
       "      <td>0.0</td>\n",
       "      <td>normal.</td>\n",
       "      <td>normal</td>\n",
       "    </tr>\n",
       "    <tr>\n",
       "      <th>48</th>\n",
       "      <td>0</td>\n",
       "      <td>tcp</td>\n",
       "      <td>http</td>\n",
       "      <td>SF</td>\n",
       "      <td>309</td>\n",
       "      <td>17798</td>\n",
       "      <td>0</td>\n",
       "      <td>0</td>\n",
       "      <td>0</td>\n",
       "      <td>0</td>\n",
       "      <td>...</td>\n",
       "      <td>1.0</td>\n",
       "      <td>0.0</td>\n",
       "      <td>0.50</td>\n",
       "      <td>0.06</td>\n",
       "      <td>0.0</td>\n",
       "      <td>0.0</td>\n",
       "      <td>0.0</td>\n",
       "      <td>0.0</td>\n",
       "      <td>normal.</td>\n",
       "      <td>normal</td>\n",
       "    </tr>\n",
       "    <tr>\n",
       "      <th>49</th>\n",
       "      <td>0</td>\n",
       "      <td>tcp</td>\n",
       "      <td>http</td>\n",
       "      <td>SF</td>\n",
       "      <td>317</td>\n",
       "      <td>2075</td>\n",
       "      <td>0</td>\n",
       "      <td>0</td>\n",
       "      <td>0</td>\n",
       "      <td>0</td>\n",
       "      <td>...</td>\n",
       "      <td>1.0</td>\n",
       "      <td>0.0</td>\n",
       "      <td>0.12</td>\n",
       "      <td>0.06</td>\n",
       "      <td>0.0</td>\n",
       "      <td>0.0</td>\n",
       "      <td>0.0</td>\n",
       "      <td>0.0</td>\n",
       "      <td>normal.</td>\n",
       "      <td>normal</td>\n",
       "    </tr>\n",
       "  </tbody>\n",
       "</table>\n",
       "<p>50 rows × 43 columns</p>\n",
       "</div>"
      ],
      "text/plain": [
       "    duration protocol type service flag  src bytes  dst bytes  Land  \\\n",
       "0          0           tcp    http   SF        181       5450     0   \n",
       "1          0           tcp    http   SF        239        486     0   \n",
       "2          0           tcp    http   SF        235       1337     0   \n",
       "3          0           tcp    http   SF        219       1337     0   \n",
       "4          0           tcp    http   SF        217       2032     0   \n",
       "5          0           tcp    http   SF        217       2032     0   \n",
       "6          0           tcp    http   SF        212       1940     0   \n",
       "7          0           tcp    http   SF        159       4087     0   \n",
       "8          0           tcp    http   SF        210        151     0   \n",
       "9          0           tcp    http   SF        212        786     0   \n",
       "10         0           tcp    http   SF        210        624     0   \n",
       "11         0           tcp    http   SF        177       1985     0   \n",
       "12         0           tcp    http   SF        222        773     0   \n",
       "13         0           tcp    http   SF        256       1169     0   \n",
       "14         0           tcp    http   SF        241        259     0   \n",
       "15         0           tcp    http   SF        260       1837     0   \n",
       "16         0           tcp    http   SF        241        261     0   \n",
       "17         0           tcp    http   SF        257        818     0   \n",
       "18         0           tcp    http   SF        233        255     0   \n",
       "19         0           tcp    http   SF        233        504     0   \n",
       "20         0           tcp    http   SF        256       1273     0   \n",
       "21         0           tcp    http   SF        234        255     0   \n",
       "22         0           tcp    http   SF        241        259     0   \n",
       "23         0           tcp    http   SF        239        968     0   \n",
       "24         0           tcp    http   SF        245       1919     0   \n",
       "25         0           tcp    http   SF        248       2129     0   \n",
       "26         0           tcp    http   SF        354       1752     0   \n",
       "27         0           tcp    http   SF        193       3991     0   \n",
       "28         0           tcp    http   SF        214      14959     0   \n",
       "29         0           tcp    http   SF        212       1309     0   \n",
       "30         0           tcp    http   SF        215       3670     0   \n",
       "31         0           tcp    http   SF        217      18434     0   \n",
       "32         0           tcp    http   SF        205        424     0   \n",
       "33         0           tcp    http   SF        155        424     0   \n",
       "34         0           tcp    http   SF        202        424     0   \n",
       "35         0           tcp    http   SF        235       6627     0   \n",
       "36         0           tcp    http   SF        259       3917     0   \n",
       "37         0           tcp    http   SF        301       2653     0   \n",
       "38         0           tcp    http   SF        322        424     0   \n",
       "39         0           tcp    http   SF        370        520     0   \n",
       "40         0           tcp    http   SF        370        520     0   \n",
       "41         0           tcp    http   SF        172       5884     0   \n",
       "42         0           tcp    http   SF        264      16123     0   \n",
       "43         0           tcp    http   SF        255       1948     0   \n",
       "44         0           tcp    http   SF        274      19790     0   \n",
       "45         0           tcp    http   SF        313        293     0   \n",
       "46         0           tcp    http   SF        145       4466     0   \n",
       "47         0           tcp    http   SF        290        460     0   \n",
       "48         0           tcp    http   SF        309      17798     0   \n",
       "49         0           tcp    http   SF        317       2075     0   \n",
       "\n",
       "    wrong fragment  urgent  hot  ...  dst host same srv_rate  \\\n",
       "0                0       0    0  ...                     1.0   \n",
       "1                0       0    0  ...                     1.0   \n",
       "2                0       0    0  ...                     1.0   \n",
       "3                0       0    0  ...                     1.0   \n",
       "4                0       0    0  ...                     1.0   \n",
       "5                0       0    0  ...                     1.0   \n",
       "6                0       0    0  ...                     1.0   \n",
       "7                0       0    0  ...                     1.0   \n",
       "8                0       0    0  ...                     1.0   \n",
       "9                0       0    1  ...                     1.0   \n",
       "10               0       0    0  ...                     1.0   \n",
       "11               0       0    0  ...                     1.0   \n",
       "12               0       0    0  ...                     1.0   \n",
       "13               0       0    0  ...                     1.0   \n",
       "14               0       0    0  ...                     1.0   \n",
       "15               0       0    0  ...                     1.0   \n",
       "16               0       0    0  ...                     1.0   \n",
       "17               0       0    0  ...                     1.0   \n",
       "18               0       0    0  ...                     1.0   \n",
       "19               0       0    0  ...                     1.0   \n",
       "20               0       0    0  ...                     1.0   \n",
       "21               0       0    0  ...                     1.0   \n",
       "22               0       0    0  ...                     1.0   \n",
       "23               0       0    0  ...                     1.0   \n",
       "24               0       0    0  ...                     1.0   \n",
       "25               0       0    0  ...                     1.0   \n",
       "26               0       0    0  ...                     1.0   \n",
       "27               0       0    0  ...                     1.0   \n",
       "28               0       0    0  ...                     1.0   \n",
       "29               0       0    0  ...                     1.0   \n",
       "30               0       0    0  ...                     1.0   \n",
       "31               0       0    0  ...                     1.0   \n",
       "32               0       0    0  ...                     1.0   \n",
       "33               0       0    0  ...                     1.0   \n",
       "34               0       0    0  ...                     1.0   \n",
       "35               0       0    0  ...                     1.0   \n",
       "36               0       0    0  ...                     1.0   \n",
       "37               0       0    0  ...                     1.0   \n",
       "38               0       0    0  ...                     1.0   \n",
       "39               0       0    0  ...                     1.0   \n",
       "40               0       0    0  ...                     1.0   \n",
       "41               0       0    0  ...                     1.0   \n",
       "42               0       0    0  ...                     1.0   \n",
       "43               0       0    0  ...                     1.0   \n",
       "44               0       0    0  ...                     1.0   \n",
       "45               0       0    0  ...                     1.0   \n",
       "46               0       0    0  ...                     1.0   \n",
       "47               0       0    0  ...                     1.0   \n",
       "48               0       0    0  ...                     1.0   \n",
       "49               0       0    0  ...                     1.0   \n",
       "\n",
       "    dst host diff sry rate  dst host same src port rate  \\\n",
       "0                      0.0                         0.11   \n",
       "1                      0.0                         0.05   \n",
       "2                      0.0                         0.03   \n",
       "3                      0.0                         0.03   \n",
       "4                      0.0                         0.02   \n",
       "5                      0.0                         0.02   \n",
       "6                      0.0                         1.00   \n",
       "7                      0.0                         0.09   \n",
       "8                      0.0                         0.12   \n",
       "9                      0.0                         0.12   \n",
       "10                     0.0                         0.06   \n",
       "11                     0.0                         0.04   \n",
       "12                     0.0                         0.03   \n",
       "13                     0.0                         0.25   \n",
       "14                     0.0                         0.07   \n",
       "15                     0.0                         0.04   \n",
       "16                     0.0                         0.03   \n",
       "17                     0.0                         0.02   \n",
       "18                     0.0                         0.02   \n",
       "19                     0.0                         0.02   \n",
       "20                     0.0                         0.01   \n",
       "21                     0.0                         0.01   \n",
       "22                     0.0                         0.01   \n",
       "23                     0.0                         0.33   \n",
       "24                     0.0                         0.08   \n",
       "25                     0.0                         0.04   \n",
       "26                     0.0                         0.20   \n",
       "27                     0.0                         1.00   \n",
       "28                     0.0                         0.09   \n",
       "29                     0.0                         0.05   \n",
       "30                     0.0                         0.03   \n",
       "31                     0.0                         0.02   \n",
       "32                     0.0                         0.50   \n",
       "33                     0.0                         0.08   \n",
       "34                     0.0                         0.05   \n",
       "35                     0.0                         0.03   \n",
       "36                     0.0                         0.02   \n",
       "37                     0.0                         0.02   \n",
       "38                     0.0                         0.02   \n",
       "39                     0.0                         0.01   \n",
       "40                     0.0                         0.01   \n",
       "41                     0.0                         0.10   \n",
       "42                     0.0                         0.05   \n",
       "43                     0.0                         0.03   \n",
       "44                     0.0                         0.03   \n",
       "45                     0.0                         0.33   \n",
       "46                     0.0                         0.08   \n",
       "47                     0.0                         0.04   \n",
       "48                     0.0                         0.50   \n",
       "49                     0.0                         0.12   \n",
       "\n",
       "    dst host srv_serror_rate  dst_host_srv_diff_host_rate  \\\n",
       "0                       0.00                          0.0   \n",
       "1                       0.00                          0.0   \n",
       "2                       0.00                          0.0   \n",
       "3                       0.00                          0.0   \n",
       "4                       0.00                          0.0   \n",
       "5                       0.00                          0.0   \n",
       "6                       0.04                          0.0   \n",
       "7                       0.04                          0.0   \n",
       "8                       0.04                          0.0   \n",
       "9                       0.05                          0.0   \n",
       "10                      0.05                          0.0   \n",
       "11                      0.04                          0.0   \n",
       "12                      0.04                          0.0   \n",
       "13                      0.04                          0.0   \n",
       "14                      0.04                          0.0   \n",
       "15                      0.04                          0.0   \n",
       "16                      0.04                          0.0   \n",
       "17                      0.03                          0.0   \n",
       "18                      0.03                          0.0   \n",
       "19                      0.03                          0.0   \n",
       "20                      0.03                          0.0   \n",
       "21                      0.03                          0.0   \n",
       "22                      0.03                          0.0   \n",
       "23                      0.03                          0.0   \n",
       "24                      0.03                          0.0   \n",
       "25                      0.03                          0.0   \n",
       "26                      0.04                          0.0   \n",
       "27                      0.05                          0.0   \n",
       "28                      0.05                          0.0   \n",
       "29                      0.05                          0.0   \n",
       "30                      0.05                          0.0   \n",
       "31                      0.05                          0.0   \n",
       "32                      0.05                          0.0   \n",
       "33                      0.05                          0.0   \n",
       "34                      0.05                          0.0   \n",
       "35                      0.05                          0.0   \n",
       "36                      0.05                          0.0   \n",
       "37                      0.05                          0.0   \n",
       "38                      0.05                          0.0   \n",
       "39                      0.04                          0.0   \n",
       "40                      0.04                          0.0   \n",
       "41                      0.05                          0.0   \n",
       "42                      0.05                          0.0   \n",
       "43                      0.05                          0.0   \n",
       "44                      0.05                          0.0   \n",
       "45                      0.05                          0.0   \n",
       "46                      0.05                          0.0   \n",
       "47                      0.05                          0.0   \n",
       "48                      0.06                          0.0   \n",
       "49                      0.06                          0.0   \n",
       "\n",
       "    dst host serror_rate  dst host_rerror_rate  dst_host_srv_rerror_rate  \\\n",
       "0                    0.0                   0.0                       0.0   \n",
       "1                    0.0                   0.0                       0.0   \n",
       "2                    0.0                   0.0                       0.0   \n",
       "3                    0.0                   0.0                       0.0   \n",
       "4                    0.0                   0.0                       0.0   \n",
       "5                    0.0                   0.0                       0.0   \n",
       "6                    0.0                   0.0                       0.0   \n",
       "7                    0.0                   0.0                       0.0   \n",
       "8                    0.0                   0.0                       0.0   \n",
       "9                    0.0                   0.0                       0.0   \n",
       "10                   0.0                   0.0                       0.0   \n",
       "11                   0.0                   0.0                       0.0   \n",
       "12                   0.0                   0.0                       0.0   \n",
       "13                   0.0                   0.0                       0.0   \n",
       "14                   0.0                   0.0                       0.0   \n",
       "15                   0.0                   0.0                       0.0   \n",
       "16                   0.0                   0.0                       0.0   \n",
       "17                   0.0                   0.0                       0.0   \n",
       "18                   0.0                   0.0                       0.0   \n",
       "19                   0.0                   0.0                       0.0   \n",
       "20                   0.0                   0.0                       0.0   \n",
       "21                   0.0                   0.0                       0.0   \n",
       "22                   0.0                   0.0                       0.0   \n",
       "23                   0.0                   0.0                       0.0   \n",
       "24                   0.0                   0.0                       0.0   \n",
       "25                   0.0                   0.0                       0.0   \n",
       "26                   0.0                   0.0                       0.0   \n",
       "27                   0.0                   0.0                       0.0   \n",
       "28                   0.0                   0.0                       0.0   \n",
       "29                   0.0                   0.0                       0.0   \n",
       "30                   0.0                   0.0                       0.0   \n",
       "31                   0.0                   0.0                       0.0   \n",
       "32                   0.0                   0.0                       0.0   \n",
       "33                   0.0                   0.0                       0.0   \n",
       "34                   0.0                   0.0                       0.0   \n",
       "35                   0.0                   0.0                       0.0   \n",
       "36                   0.0                   0.0                       0.0   \n",
       "37                   0.0                   0.0                       0.0   \n",
       "38                   0.0                   0.0                       0.0   \n",
       "39                   0.0                   0.0                       0.0   \n",
       "40                   0.0                   0.0                       0.0   \n",
       "41                   0.0                   0.0                       0.0   \n",
       "42                   0.0                   0.0                       0.0   \n",
       "43                   0.0                   0.0                       0.0   \n",
       "44                   0.0                   0.0                       0.0   \n",
       "45                   0.0                   0.0                       0.0   \n",
       "46                   0.0                   0.0                       0.0   \n",
       "47                   0.0                   0.0                       0.0   \n",
       "48                   0.0                   0.0                       0.0   \n",
       "49                   0.0                   0.0                       0.0   \n",
       "\n",
       "     target  Attack Type  \n",
       "0   normal.       normal  \n",
       "1   normal.       normal  \n",
       "2   normal.       normal  \n",
       "3   normal.       normal  \n",
       "4   normal.       normal  \n",
       "5   normal.       normal  \n",
       "6   normal.       normal  \n",
       "7   normal.       normal  \n",
       "8   normal.       normal  \n",
       "9   normal.       normal  \n",
       "10  normal.       normal  \n",
       "11  normal.       normal  \n",
       "12  normal.       normal  \n",
       "13  normal.       normal  \n",
       "14  normal.       normal  \n",
       "15  normal.       normal  \n",
       "16  normal.       normal  \n",
       "17  normal.       normal  \n",
       "18  normal.       normal  \n",
       "19  normal.       normal  \n",
       "20  normal.       normal  \n",
       "21  normal.       normal  \n",
       "22  normal.       normal  \n",
       "23  normal.       normal  \n",
       "24  normal.       normal  \n",
       "25  normal.       normal  \n",
       "26  normal.       normal  \n",
       "27  normal.       normal  \n",
       "28  normal.       normal  \n",
       "29  normal.       normal  \n",
       "30  normal.       normal  \n",
       "31  normal.       normal  \n",
       "32  normal.       normal  \n",
       "33  normal.       normal  \n",
       "34  normal.       normal  \n",
       "35  normal.       normal  \n",
       "36  normal.       normal  \n",
       "37  normal.       normal  \n",
       "38  normal.       normal  \n",
       "39  normal.       normal  \n",
       "40  normal.       normal  \n",
       "41  normal.       normal  \n",
       "42  normal.       normal  \n",
       "43  normal.       normal  \n",
       "44  normal.       normal  \n",
       "45  normal.       normal  \n",
       "46  normal.       normal  \n",
       "47  normal.       normal  \n",
       "48  normal.       normal  \n",
       "49  normal.       normal  \n",
       "\n",
       "[50 rows x 43 columns]"
      ]
     },
     "execution_count": 6,
     "metadata": {},
     "output_type": "execute_result"
    }
   ],
   "source": [
    "path=\"kddcup.data_10_percent\"\n",
    "df=pd.read_csv(path, names=columns)\n",
    "#Adding Attack Type column\n",
    "df['Attack Type']=df.target.apply(lambda r:attacks_types[r[:-1]])\n",
    "df.head(50)"
   ]
  },
  {
   "cell_type": "code",
   "execution_count": 7,
   "id": "de9e05de",
   "metadata": {},
   "outputs": [
    {
     "data": {
      "text/plain": [
       "dos       391458\n",
       "normal     97278\n",
       "probe       4107\n",
       "r2l         1126\n",
       "u2r           52\n",
       "Name: Attack Type, dtype: int64"
      ]
     },
     "execution_count": 7,
     "metadata": {},
     "output_type": "execute_result"
    }
   ],
   "source": [
    "df['Attack Type'].value_counts()"
   ]
  },
  {
   "cell_type": "code",
   "execution_count": 8,
   "id": "58421115",
   "metadata": {},
   "outputs": [
    {
     "name": "stderr",
     "output_type": "stream",
     "text": [
      "C:\\Users\\kesha\\anaconda3\\lib\\site-packages\\seaborn\\_decorators.py:36: FutureWarning: Pass the following variable as a keyword arg: x. From version 0.12, the only valid positional argument will be `data`, and passing other arguments without an explicit keyword will result in an error or misinterpretation.\n",
      "  warnings.warn(\n"
     ]
    },
    {
     "data": {
      "text/plain": [
       "<AxesSubplot:xlabel='Attack Type', ylabel='count'>"
      ]
     },
     "execution_count": 8,
     "metadata": {},
     "output_type": "execute_result"
    },
    {
     "data": {
      "image/png": "[encoded data removed]",
      "text/plain": [
       "<Figure size 640x480 with 1 Axes>"
      ]
     },
     "metadata": {},
     "output_type": "display_data"
    }
   ],
   "source": [
    "sns.countplot(df['Attack Type'])"
   ]
  },
  {
   "cell_type": "code",
   "execution_count": 9,
   "id": "78010329",
   "metadata": {},
   "outputs": [
    {
     "data": {
      "text/plain": [
       "smurf.              280790\n",
       "neptune.            107201\n",
       "normal.              97278\n",
       "back.                 2203\n",
       "satan.                1589\n",
       "ipsweep.              1247\n",
       "portsweep.            1040\n",
       "warezclient.          1020\n",
       "teardrop.              979\n",
       "pod.                   264\n",
       "nmap.                  231\n",
       "guess_passwd.           53\n",
       "buffer_overflow.        30\n",
       "land.                   21\n",
       "warezmaster.            20\n",
       "imap.                   12\n",
       "rootkit.                10\n",
       "loadmodule.              9\n",
       "ftp_write.               8\n",
       "multihop.                7\n",
       "phf.                     4\n",
       "perl.                    3\n",
       "spy.                     2\n",
       "Name: target, dtype: int64"
      ]
     },
     "execution_count": 9,
     "metadata": {},
     "output_type": "execute_result"
    }
   ],
   "source": [
    "df['target'].value_counts()"
   ]
  },
  {
   "cell_type": "code",
   "execution_count": 10,
   "id": "7fa8e166",
   "metadata": {},
   "outputs": [
    {
     "data": {
      "text/plain": [
       "<AxesSubplot:>"
      ]
     },
     "execution_count": 10,
     "metadata": {},
     "output_type": "execute_result"
    },
    {
     "data": {
      "image/png": "[encoded data removed]",
      "text/plain": [
       "<Figure size 640x480 with 1 Axes>"
      ]
     },
     "metadata": {},
     "output_type": "display_data"
    }
   ],
   "source": [
    "df['target'].value_counts().plot(kind='bar')"
   ]
  },
  {
   "cell_type": "code",
   "execution_count": 11,
   "id": "e8510489",
   "metadata": {},
   "outputs": [
    {
     "data": {
      "text/plain": [
       "(494021, 43)"
      ]
     },
     "execution_count": 11,
     "metadata": {},
     "output_type": "execute_result"
    }
   ],
   "source": [
    "df.shape"
   ]
  },
  {
   "cell_type": "code",
   "execution_count": 12,
   "id": "d9f83028",
   "metadata": {},
   "outputs": [
    {
     "data": {
      "text/plain": [
       "duration                       0\n",
       "protocol type                  0\n",
       "service                        0\n",
       "flag                           0\n",
       "src bytes                      0\n",
       "dst bytes                      0\n",
       "Land                           0\n",
       "wrong fragment                 0\n",
       "urgent                         0\n",
       "hot                            0\n",
       "nums failed logins             0\n",
       "logged in                      0\n",
       "num compromised                0\n",
       "root shell                     0\n",
       "su attempted                   0\n",
       "num_root                       0\n",
       "num_file_creations             0\n",
       "num_shells                     0\n",
       "num_access files               0\n",
       "num_outbound_conds             0\n",
       "is host login                  0\n",
       "is guest_login                 0\n",
       "count                          0\n",
       "sev count                      0\n",
       "serror rate                    0\n",
       "srv_serror_rate                0\n",
       "terror_rate                    0\n",
       "sry rerror_rate                0\n",
       "same srv_rate                  0\n",
       "diff srv_rate                  0\n",
       "SEV diff host_rate             0\n",
       "dst host count                 0\n",
       "dst host srv_count             0\n",
       "dst host same srv_rate         0\n",
       "dst host diff sry rate         0\n",
       "dst host same src port rate    0\n",
       "dst host srv_serror_rate       0\n",
       "dst_host_srv_diff_host_rate    0\n",
       "dst host serror_rate           0\n",
       "dst host_rerror_rate           0\n",
       "dst_host_srv_rerror_rate       0\n",
       "target                         0\n",
       "Attack Type                    0\n",
       "dtype: int64"
      ]
     },
     "execution_count": 12,
     "metadata": {},
     "output_type": "execute_result"
    }
   ],
   "source": [
    "df.isnull().sum()"
   ]
  },
  {
   "cell_type": "code",
   "execution_count": 13,
   "id": "f06dbfaf",
   "metadata": {},
   "outputs": [
    {
     "data": {
      "text/plain": [
       "duration                         int64\n",
       "protocol type                   object\n",
       "service                         object\n",
       "flag                            object\n",
       "src bytes                        int64\n",
       "dst bytes                        int64\n",
       "Land                             int64\n",
       "wrong fragment                   int64\n",
       "urgent                           int64\n",
       "hot                              int64\n",
       "nums failed logins               int64\n",
       "logged in                        int64\n",
       "num compromised                  int64\n",
       "root shell                       int64\n",
       "su attempted                     int64\n",
       "num_root                         int64\n",
       "num_file_creations               int64\n",
       "num_shells                       int64\n",
       "num_access files                 int64\n",
       "num_outbound_conds               int64\n",
       "is host login                    int64\n",
       "is guest_login                   int64\n",
       "count                            int64\n",
       "sev count                        int64\n",
       "serror rate                    float64\n",
       "srv_serror_rate                float64\n",
       "terror_rate                    float64\n",
       "sry rerror_rate                float64\n",
       "same srv_rate                  float64\n",
       "diff srv_rate                  float64\n",
       "SEV diff host_rate             float64\n",
       "dst host count                   int64\n",
       "dst host srv_count               int64\n",
       "dst host same srv_rate         float64\n",
       "dst host diff sry rate         float64\n",
       "dst host same src port rate    float64\n",
       "dst host srv_serror_rate       float64\n",
       "dst_host_srv_diff_host_rate    float64\n",
       "dst host serror_rate           float64\n",
       "dst host_rerror_rate           float64\n",
       "dst_host_srv_rerror_rate       float64\n",
       "target                          object\n",
       "Attack Type                     object\n",
       "dtype: object"
      ]
     },
     "execution_count": 13,
     "metadata": {},
     "output_type": "execute_result"
    }
   ],
   "source": [
    "df.dtypes"
   ]
  },
  {
   "cell_type": "code",
   "execution_count": 14,
   "id": "d2ce93ec",
   "metadata": {},
   "outputs": [
    {
     "name": "stdout",
     "output_type": "stream",
     "text": [
      "(494021, 43)\n"
     ]
    }
   ],
   "source": [
    "print(df.shape)"
   ]
  },
  {
   "cell_type": "code",
   "execution_count": 17,
   "id": "fb8558e9",
   "metadata": {},
   "outputs": [
    {
     "name": "stdout",
     "output_type": "stream",
     "text": [
      "['protocol type', 'service', 'target', 'Attack Type', 'flag']\n",
      "['protocol type', 'service', 'flag']\n",
      "(494021, 43)\n"
     ]
    }
   ],
   "source": [
    "#Finding categorical features\n",
    "num_cols=df._get_numeric_data().columns\n",
    "cate_cols=list (set (df.columns)-set (num_cols))\n",
    "print(cate_cols)\n",
    "\n",
    "cate_cols.remove('target')\n",
    "cate_cols.remove('Attack Type')\n",
    "print(cate_cols)\n",
    "num_cols\n",
    "print(df.shape)"
   ]
  },
  {
   "cell_type": "code",
   "execution_count": 18,
   "id": "19f7d448",
   "metadata": {},
   "outputs": [
    {
     "name": "stderr",
     "output_type": "stream",
     "text": [
      "C:\\Users\\kesha\\anaconda3\\lib\\site-packages\\seaborn\\_decorators.py:36: FutureWarning: Pass the following variable as a keyword arg: x. From version 0.12, the only valid positional argument will be `data`, and passing other arguments without an explicit keyword will result in an error or misinterpretation.\n",
      "  warnings.warn(\n"
     ]
    },
    {
     "data": {
      "text/plain": [
       "<AxesSubplot:xlabel='protocol type', ylabel='count'>"
      ]
     },
     "execution_count": 18,
     "metadata": {},
     "output_type": "execute_result"
    },
    {
     "data": {
      "image/png": "[encoded data removed]",
      "text/plain": [
       "<Figure size 640x480 with 1 Axes>"
      ]
     },
     "metadata": {},
     "output_type": "display_data"
    }
   ],
   "source": [
    "sns.countplot(df[\"protocol type\"])"
   ]
  },
  {
   "cell_type": "code",
   "execution_count": 19,
   "id": "0c9062a2",
   "metadata": {},
   "outputs": [
    {
     "data": {
      "text/plain": [
       "<AxesSubplot:ylabel='Density'>"
      ]
     },
     "execution_count": 19,
     "metadata": {},
     "output_type": "execute_result"
    },
    {
     "data": {
      "image/png": "[encoded data removed]",
      "text/plain": [
       "<Figure size 640x480 with 1 Axes>"
      ]
     },
     "metadata": {},
     "output_type": "display_data"
    }
   ],
   "source": [
    "df['duration'].value_counts().plot(kind='kde')\n",
    "#df['duration'].value_counts().plot(kind='pie')"
   ]
  },
  {
   "cell_type": "code",
   "execution_count": 20,
   "id": "80210168",
   "metadata": {},
   "outputs": [
    {
     "name": "stdout",
     "output_type": "stream",
     "text": [
      "ecr_i      281400\n",
      "private    110893\n",
      "http        64293\n",
      "smtp         9723\n",
      "other        7237\n",
      "            ...  \n",
      "X11            11\n",
      "tim_i           7\n",
      "pm_dump         1\n",
      "tftp_u          1\n",
      "red_i           1\n",
      "Name: service, Length: 66, dtype: int64\n"
     ]
    },
    {
     "data": {
      "text/plain": [
       "<AxesSubplot:>"
      ]
     },
     "execution_count": 20,
     "metadata": {},
     "output_type": "execute_result"
    },
    {
     "data": {
      "image/png": "[encoded data removed]",
      "text/plain": [
       "<Figure size 640x480 with 1 Axes>"
      ]
     },
     "metadata": {},
     "output_type": "display_data"
    }
   ],
   "source": [
    "print(df['service'].value_counts())\n",
    "df['service'].value_counts().plot(kind='bar')"
   ]
  },
  {
   "cell_type": "code",
   "execution_count": 21,
   "id": "670ff154",
   "metadata": {},
   "outputs": [
    {
     "data": {
      "text/plain": [
       "<AxesSubplot:>"
      ]
     },
     "execution_count": 21,
     "metadata": {},
     "output_type": "execute_result"
    },
    {
     "data": {
      "image/png": "[encoded data removed]",
      "text/plain": [
       "<Figure size 640x480 with 1 Axes>"
      ]
     },
     "metadata": {},
     "output_type": "display_data"
    }
   ],
   "source": [
    "df['flag'].value_counts().plot(kind='bar')"
   ]
  },
  {
   "cell_type": "code",
   "execution_count": 22,
   "id": "1d909198",
   "metadata": {},
   "outputs": [
    {
     "data": {
      "text/plain": [
       "SF        378440\n",
       "S0         87007\n",
       "REJ        26875\n",
       "RSTR         903\n",
       "RSTO         579\n",
       "SH           107\n",
       "S1            57\n",
       "S2            24\n",
       "RSTOS0        11\n",
       "S3            10\n",
       "OTH            8\n",
       "Name: flag, dtype: int64"
      ]
     },
     "execution_count": 22,
     "metadata": {},
     "output_type": "execute_result"
    }
   ],
   "source": [
    "df['flag'].value_counts()"
   ]
  },
  {
   "cell_type": "code",
   "execution_count": 23,
   "id": "698313b8",
   "metadata": {},
   "outputs": [
    {
     "name": "stdout",
     "output_type": "stream",
     "text": [
      "0    420784\n",
      "1     73237\n",
      "Name: logged in, dtype: int64\n"
     ]
    },
    {
     "name": "stderr",
     "output_type": "stream",
     "text": [
      "C:\\Users\\kesha\\anaconda3\\lib\\site-packages\\seaborn\\_decorators.py:36: FutureWarning: Pass the following variable as a keyword arg: x. From version 0.12, the only valid positional argument will be `data`, and passing other arguments without an explicit keyword will result in an error or misinterpretation.\n",
      "  warnings.warn(\n"
     ]
    },
    {
     "data": {
      "text/plain": [
       "<AxesSubplot:xlabel='logged in', ylabel='count'>"
      ]
     },
     "execution_count": 23,
     "metadata": {},
     "output_type": "execute_result"
    },
    {
     "data": {
      "image/png": "[encoded data removed]",
      "text/plain": [
       "<Figure size 640x480 with 1 Axes>"
      ]
     },
     "metadata": {},
     "output_type": "display_data"
    }
   ],
   "source": [
    "print(df['logged in'].value_counts())\n",
    "sns.countplot(df['logged in'])"
   ]
  },
  {
   "cell_type": "code",
   "execution_count": 24,
   "id": "da31b6d9",
   "metadata": {},
   "outputs": [
    {
     "name": "stdout",
     "output_type": "stream",
     "text": [
      "dos       391458\n",
      "normal     97278\n",
      "probe       4107\n",
      "r2l         1126\n",
      "u2r           52\n",
      "Name: Attack Type, dtype: int64\n"
     ]
    },
    {
     "name": "stderr",
     "output_type": "stream",
     "text": [
      "C:\\Users\\kesha\\anaconda3\\lib\\site-packages\\seaborn\\_decorators.py:36: FutureWarning: Pass the following variable as a keyword arg: x. From version 0.12, the only valid positional argument will be `data`, and passing other arguments without an explicit keyword will result in an error or misinterpretation.\n",
      "  warnings.warn(\n"
     ]
    },
    {
     "data": {
      "text/plain": [
       "<AxesSubplot:xlabel='Attack Type', ylabel='count'>"
      ]
     },
     "execution_count": 24,
     "metadata": {},
     "output_type": "execute_result"
    },
    {
     "data": {
      "image/png": "[encoded data removed]",
      "text/plain": [
       "<Figure size 640x480 with 1 Axes>"
      ]
     },
     "metadata": {},
     "output_type": "display_data"
    }
   ],
   "source": [
    "print(df['Attack Type'].value_counts())\n",
    "sns.countplot(df['Attack Type'])"
   ]
  },
  {
   "cell_type": "code",
   "execution_count": 25,
   "id": "1303cb2f",
   "metadata": {},
   "outputs": [
    {
     "data": {
      "text/plain": [
       "(494021, 43)"
      ]
     },
     "execution_count": 25,
     "metadata": {},
     "output_type": "execute_result"
    }
   ],
   "source": [
    "df.shape"
   ]
  },
  {
   "cell_type": "code",
   "execution_count": 26,
   "id": "d3977c8d",
   "metadata": {},
   "outputs": [
    {
     "name": "stderr",
     "output_type": "stream",
     "text": [
      "C:\\Users\\kesha\\AppData\\Local\\Temp\\ipykernel_20912\\4067945474.py:1: FutureWarning: In a future version of pandas all arguments of DataFrame.dropna will be keyword-only.\n",
      "  df.dropna('columns')\n"
     ]
    },
    {
     "name": "stdout",
     "output_type": "stream",
     "text": [
      "(494021, 43)\n",
      "(494021, 41)\n"
     ]
    },
    {
     "data": {
      "image/png": "[encoded data removed]",
      "text/plain": [
       "<Figure size 1500x1200 with 2 Axes>"
      ]
     },
     "metadata": {},
     "output_type": "display_data"
    }
   ],
   "source": [
    "df.dropna('columns')\n",
    "print(df.shape)\n",
    "# drop columns with NON\n",
    "df = df[[col for col in df if df[col].nunique() > 1]]# keep columns where there are more than 1 unique values\n",
    "print(df.shape)\n",
    "corr=df.corr()\n",
    "plt.figure(figsize=(15,12))\n",
    "sns.heatmap(corr,cmap='BrBG')\n",
    "plt.show()\n",
    "#print(corr)\n",
    "#print(df.describe())"
   ]
  },
  {
   "cell_type": "code",
   "execution_count": 27,
   "id": "91c79bba",
   "metadata": {},
   "outputs": [
    {
     "data": {
      "text/html": [
       "<div>\n",
       "<style scoped>\n",
       "    .dataframe tbody tr th:only-of-type {\n",
       "        vertical-align: middle;\n",
       "    }\n",
       "\n",
       "    .dataframe tbody tr th {\n",
       "        vertical-align: top;\n",
       "    }\n",
       "\n",
       "    .dataframe thead th {\n",
       "        text-align: right;\n",
       "    }\n",
       "</style>\n",
       "<table border=\"1\" class=\"dataframe\">\n",
       "  <thead>\n",
       "    <tr style=\"text-align: right;\">\n",
       "      <th></th>\n",
       "      <th>duration</th>\n",
       "      <th>protocol type</th>\n",
       "      <th>service</th>\n",
       "      <th>flag</th>\n",
       "      <th>src bytes</th>\n",
       "      <th>dst bytes</th>\n",
       "      <th>Land</th>\n",
       "      <th>wrong fragment</th>\n",
       "      <th>urgent</th>\n",
       "      <th>hot</th>\n",
       "      <th>...</th>\n",
       "      <th>dst host same srv_rate</th>\n",
       "      <th>dst host diff sry rate</th>\n",
       "      <th>dst host same src port rate</th>\n",
       "      <th>dst host srv_serror_rate</th>\n",
       "      <th>dst_host_srv_diff_host_rate</th>\n",
       "      <th>dst host serror_rate</th>\n",
       "      <th>dst host_rerror_rate</th>\n",
       "      <th>dst_host_srv_rerror_rate</th>\n",
       "      <th>target</th>\n",
       "      <th>Attack Type</th>\n",
       "    </tr>\n",
       "  </thead>\n",
       "  <tbody>\n",
       "    <tr>\n",
       "      <th>0</th>\n",
       "      <td>0</td>\n",
       "      <td>tcp</td>\n",
       "      <td>http</td>\n",
       "      <td>SF</td>\n",
       "      <td>181</td>\n",
       "      <td>5450</td>\n",
       "      <td>0</td>\n",
       "      <td>0</td>\n",
       "      <td>0</td>\n",
       "      <td>0</td>\n",
       "      <td>...</td>\n",
       "      <td>1.0</td>\n",
       "      <td>0.0</td>\n",
       "      <td>0.11</td>\n",
       "      <td>0.0</td>\n",
       "      <td>0.0</td>\n",
       "      <td>0.0</td>\n",
       "      <td>0.0</td>\n",
       "      <td>0.0</td>\n",
       "      <td>normal.</td>\n",
       "      <td>normal</td>\n",
       "    </tr>\n",
       "    <tr>\n",
       "      <th>1</th>\n",
       "      <td>0</td>\n",
       "      <td>tcp</td>\n",
       "      <td>http</td>\n",
       "      <td>SF</td>\n",
       "      <td>239</td>\n",
       "      <td>486</td>\n",
       "      <td>0</td>\n",
       "      <td>0</td>\n",
       "      <td>0</td>\n",
       "      <td>0</td>\n",
       "      <td>...</td>\n",
       "      <td>1.0</td>\n",
       "      <td>0.0</td>\n",
       "      <td>0.05</td>\n",
       "      <td>0.0</td>\n",
       "      <td>0.0</td>\n",
       "      <td>0.0</td>\n",
       "      <td>0.0</td>\n",
       "      <td>0.0</td>\n",
       "      <td>normal.</td>\n",
       "      <td>normal</td>\n",
       "    </tr>\n",
       "    <tr>\n",
       "      <th>2</th>\n",
       "      <td>0</td>\n",
       "      <td>tcp</td>\n",
       "      <td>http</td>\n",
       "      <td>SF</td>\n",
       "      <td>235</td>\n",
       "      <td>1337</td>\n",
       "      <td>0</td>\n",
       "      <td>0</td>\n",
       "      <td>0</td>\n",
       "      <td>0</td>\n",
       "      <td>...</td>\n",
       "      <td>1.0</td>\n",
       "      <td>0.0</td>\n",
       "      <td>0.03</td>\n",
       "      <td>0.0</td>\n",
       "      <td>0.0</td>\n",
       "      <td>0.0</td>\n",
       "      <td>0.0</td>\n",
       "      <td>0.0</td>\n",
       "      <td>normal.</td>\n",
       "      <td>normal</td>\n",
       "    </tr>\n",
       "    <tr>\n",
       "      <th>3</th>\n",
       "      <td>0</td>\n",
       "      <td>tcp</td>\n",
       "      <td>http</td>\n",
       "      <td>SF</td>\n",
       "      <td>219</td>\n",
       "      <td>1337</td>\n",
       "      <td>0</td>\n",
       "      <td>0</td>\n",
       "      <td>0</td>\n",
       "      <td>0</td>\n",
       "      <td>...</td>\n",
       "      <td>1.0</td>\n",
       "      <td>0.0</td>\n",
       "      <td>0.03</td>\n",
       "      <td>0.0</td>\n",
       "      <td>0.0</td>\n",
       "      <td>0.0</td>\n",
       "      <td>0.0</td>\n",
       "      <td>0.0</td>\n",
       "      <td>normal.</td>\n",
       "      <td>normal</td>\n",
       "    </tr>\n",
       "    <tr>\n",
       "      <th>4</th>\n",
       "      <td>0</td>\n",
       "      <td>tcp</td>\n",
       "      <td>http</td>\n",
       "      <td>SF</td>\n",
       "      <td>217</td>\n",
       "      <td>2032</td>\n",
       "      <td>0</td>\n",
       "      <td>0</td>\n",
       "      <td>0</td>\n",
       "      <td>0</td>\n",
       "      <td>...</td>\n",
       "      <td>1.0</td>\n",
       "      <td>0.0</td>\n",
       "      <td>0.02</td>\n",
       "      <td>0.0</td>\n",
       "      <td>0.0</td>\n",
       "      <td>0.0</td>\n",
       "      <td>0.0</td>\n",
       "      <td>0.0</td>\n",
       "      <td>normal.</td>\n",
       "      <td>normal</td>\n",
       "    </tr>\n",
       "  </tbody>\n",
       "</table>\n",
       "<p>5 rows × 41 columns</p>\n",
       "</div>"
      ],
      "text/plain": [
       "   duration protocol type service flag  src bytes  dst bytes  Land  \\\n",
       "0         0           tcp    http   SF        181       5450     0   \n",
       "1         0           tcp    http   SF        239        486     0   \n",
       "2         0           tcp    http   SF        235       1337     0   \n",
       "3         0           tcp    http   SF        219       1337     0   \n",
       "4         0           tcp    http   SF        217       2032     0   \n",
       "\n",
       "   wrong fragment  urgent  hot  ...  dst host same srv_rate  \\\n",
       "0               0       0    0  ...                     1.0   \n",
       "1               0       0    0  ...                     1.0   \n",
       "2               0       0    0  ...                     1.0   \n",
       "3               0       0    0  ...                     1.0   \n",
       "4               0       0    0  ...                     1.0   \n",
       "\n",
       "   dst host diff sry rate  dst host same src port rate  \\\n",
       "0                     0.0                         0.11   \n",
       "1                     0.0                         0.05   \n",
       "2                     0.0                         0.03   \n",
       "3                     0.0                         0.03   \n",
       "4                     0.0                         0.02   \n",
       "\n",
       "   dst host srv_serror_rate  dst_host_srv_diff_host_rate  \\\n",
       "0                       0.0                          0.0   \n",
       "1                       0.0                          0.0   \n",
       "2                       0.0                          0.0   \n",
       "3                       0.0                          0.0   \n",
       "4                       0.0                          0.0   \n",
       "\n",
       "   dst host serror_rate  dst host_rerror_rate  dst_host_srv_rerror_rate  \\\n",
       "0                   0.0                   0.0                       0.0   \n",
       "1                   0.0                   0.0                       0.0   \n",
       "2                   0.0                   0.0                       0.0   \n",
       "3                   0.0                   0.0                       0.0   \n",
       "4                   0.0                   0.0                       0.0   \n",
       "\n",
       "    target  Attack Type  \n",
       "0  normal.       normal  \n",
       "1  normal.       normal  \n",
       "2  normal.       normal  \n",
       "3  normal.       normal  \n",
       "4  normal.       normal  \n",
       "\n",
       "[5 rows x 41 columns]"
      ]
     },
     "execution_count": 27,
     "metadata": {},
     "output_type": "execute_result"
    }
   ],
   "source": [
    "df.head()"
   ]
  },
  {
   "cell_type": "code",
   "execution_count": 28,
   "id": "641805d5",
   "metadata": {},
   "outputs": [
    {
     "data": {
      "text/plain": [
       "0.9938277978738366"
      ]
     },
     "execution_count": 28,
     "metadata": {},
     "output_type": "execute_result"
    }
   ],
   "source": [
    "df['num_root'].corr(df['num compromised'])"
   ]
  },
  {
   "cell_type": "code",
   "execution_count": 29,
   "id": "fb1838ed",
   "metadata": {},
   "outputs": [],
   "source": [
    "#This variable is highly correlated with num_compromised and should be ignored for analysis.\n",
    "#(Correlation = 0.9938277978738366)\n",
    "df.drop('num_root',axis= 1,inplace = True)"
   ]
  },
  {
   "cell_type": "code",
   "execution_count": 30,
   "id": "8fdb8c5e",
   "metadata": {},
   "outputs": [
    {
     "data": {
      "text/plain": [
       "0.9993041091850098"
      ]
     },
     "execution_count": 30,
     "metadata": {},
     "output_type": "execute_result"
    }
   ],
   "source": [
    "df['srv_serror_rate'].corr(df['dst host serror_rate'])"
   ]
  },
  {
   "cell_type": "code",
   "execution_count": 31,
   "id": "3d078ede",
   "metadata": {},
   "outputs": [
    {
     "data": {
      "text/plain": [
       "0.997835300373975"
      ]
     },
     "execution_count": 31,
     "metadata": {},
     "output_type": "execute_result"
    }
   ],
   "source": [
    "df['srv_serror_rate'].corr(df['dst_host_srv_diff_host_rate'])"
   ]
  },
  {
   "cell_type": "code",
   "execution_count": 32,
   "id": "4df992b7",
   "metadata": {},
   "outputs": [
    {
     "data": {
      "text/plain": [
       "0.9981559173373309"
      ]
     },
     "execution_count": 32,
     "metadata": {},
     "output_type": "execute_result"
    }
   ],
   "source": [
    "df['dst host serror_rate'].corr(df['dst_host_srv_diff_host_rate'])"
   ]
  },
  {
   "cell_type": "code",
   "execution_count": 33,
   "id": "3b7841b5",
   "metadata": {},
   "outputs": [],
   "source": [
    "#This variable is highly correlated with serror_rate and should be ignored for analysis.\n",
    "#(Correlation = 0.9983615072725952)\n",
    "df.drop('srv_serror_rate',axis=1,inplace=True)"
   ]
  },
  {
   "cell_type": "code",
   "execution_count": 34,
   "id": "820ed823",
   "metadata": {},
   "outputs": [
    {
     "data": {
      "text/plain": [
       "0.9821663427308374"
      ]
     },
     "execution_count": 34,
     "metadata": {},
     "output_type": "execute_result"
    }
   ],
   "source": [
    "df['sry rerror_rate'].corr(df['dst host_rerror_rate'])"
   ]
  },
  {
   "cell_type": "code",
   "execution_count": 35,
   "id": "7696a9f3",
   "metadata": {},
   "outputs": [
    {
     "data": {
      "text/plain": [
       "0.9865705438845669"
      ]
     },
     "execution_count": 35,
     "metadata": {},
     "output_type": "execute_result"
    }
   ],
   "source": [
    "df['sry rerror_rate'].corr(df['dst_host_srv_rerror_rate'])"
   ]
  },
  {
   "cell_type": "code",
   "execution_count": 36,
   "id": "a8f8f39c",
   "metadata": {},
   "outputs": [],
   "source": [
    "#This variable is highly correlated with rerror_rate and should be ignored for analysis.\n",
    "#(Correlation 0.9947309539817937)\n",
    "df.drop('sry rerror_rate',axis=1, inplace=True)"
   ]
  },
  {
   "cell_type": "code",
   "execution_count": 37,
   "id": "0f07afa2",
   "metadata": {},
   "outputs": [],
   "source": [
    "#This variable is highly correlated with srv_serror_rate and should be ignored for analysis.\n",
    "#(Correlation = 0.9993041091850098)\n",
    "df.drop('dst host srv_serror_rate', axis=1, inplace=True)"
   ]
  },
  {
   "cell_type": "code",
   "execution_count": 38,
   "id": "9eab035e",
   "metadata": {},
   "outputs": [],
   "source": [
    "#This variable is highly correlated with rerror_rate and should be ignored for analysis.\n",
    "#(Correlation = 0.9869947924956001)\n",
    "df.drop('dst host serror_rate',axis=1, inplace=True)"
   ]
  },
  {
   "cell_type": "code",
   "execution_count": 39,
   "id": "c7d088a0",
   "metadata": {},
   "outputs": [],
   "source": [
    "#This variable is highly correlated with srv_rerror_rate and should be ignored for analysis.\n",
    "#(Correlation = 0.9821663427308375)\n",
    "df.drop('dst host_rerror_rate',axis=1, inplace=True)"
   ]
  },
  {
   "cell_type": "code",
   "execution_count": 40,
   "id": "693f0c4e",
   "metadata": {},
   "outputs": [],
   "source": [
    "#This variable is highly correlated with rerror_rate and should be ignored for analysis.\n",
    "#(Correlation = 0.9851995540751249)\n",
    "df.drop('dst_host_srv_rerror_rate',axis=1, inplace=True)"
   ]
  },
  {
   "cell_type": "code",
   "execution_count": 41,
   "id": "cbf5aaa7",
   "metadata": {},
   "outputs": [],
   "source": [
    "#This variable is highly correlated with srv_rerror_rate and should be ignored for analysis.\n",
    "#(Correlation = 0.9865785438845669)\n",
    "df.drop('dst host same srv_rate',axis = 1, inplace=True)"
   ]
  },
  {
   "cell_type": "code",
   "execution_count": 42,
   "id": "ec17d8cc",
   "metadata": {},
   "outputs": [
    {
     "data": {
      "text/html": [
       "<div>\n",
       "<style scoped>\n",
       "    .dataframe tbody tr th:only-of-type {\n",
       "        vertical-align: middle;\n",
       "    }\n",
       "\n",
       "    .dataframe tbody tr th {\n",
       "        vertical-align: top;\n",
       "    }\n",
       "\n",
       "    .dataframe thead th {\n",
       "        text-align: right;\n",
       "    }\n",
       "</style>\n",
       "<table border=\"1\" class=\"dataframe\">\n",
       "  <thead>\n",
       "    <tr style=\"text-align: right;\">\n",
       "      <th></th>\n",
       "      <th>duration</th>\n",
       "      <th>protocol type</th>\n",
       "      <th>service</th>\n",
       "      <th>flag</th>\n",
       "      <th>src bytes</th>\n",
       "      <th>dst bytes</th>\n",
       "      <th>Land</th>\n",
       "      <th>wrong fragment</th>\n",
       "      <th>urgent</th>\n",
       "      <th>hot</th>\n",
       "      <th>...</th>\n",
       "      <th>same srv_rate</th>\n",
       "      <th>diff srv_rate</th>\n",
       "      <th>SEV diff host_rate</th>\n",
       "      <th>dst host count</th>\n",
       "      <th>dst host srv_count</th>\n",
       "      <th>dst host diff sry rate</th>\n",
       "      <th>dst host same src port rate</th>\n",
       "      <th>dst_host_srv_diff_host_rate</th>\n",
       "      <th>target</th>\n",
       "      <th>Attack Type</th>\n",
       "    </tr>\n",
       "  </thead>\n",
       "  <tbody>\n",
       "    <tr>\n",
       "      <th>0</th>\n",
       "      <td>0</td>\n",
       "      <td>tcp</td>\n",
       "      <td>http</td>\n",
       "      <td>SF</td>\n",
       "      <td>181</td>\n",
       "      <td>5450</td>\n",
       "      <td>0</td>\n",
       "      <td>0</td>\n",
       "      <td>0</td>\n",
       "      <td>0</td>\n",
       "      <td>...</td>\n",
       "      <td>1.0</td>\n",
       "      <td>0.0</td>\n",
       "      <td>0.0</td>\n",
       "      <td>9</td>\n",
       "      <td>9</td>\n",
       "      <td>0.0</td>\n",
       "      <td>0.11</td>\n",
       "      <td>0.0</td>\n",
       "      <td>normal.</td>\n",
       "      <td>normal</td>\n",
       "    </tr>\n",
       "    <tr>\n",
       "      <th>1</th>\n",
       "      <td>0</td>\n",
       "      <td>tcp</td>\n",
       "      <td>http</td>\n",
       "      <td>SF</td>\n",
       "      <td>239</td>\n",
       "      <td>486</td>\n",
       "      <td>0</td>\n",
       "      <td>0</td>\n",
       "      <td>0</td>\n",
       "      <td>0</td>\n",
       "      <td>...</td>\n",
       "      <td>1.0</td>\n",
       "      <td>0.0</td>\n",
       "      <td>0.0</td>\n",
       "      <td>19</td>\n",
       "      <td>19</td>\n",
       "      <td>0.0</td>\n",
       "      <td>0.05</td>\n",
       "      <td>0.0</td>\n",
       "      <td>normal.</td>\n",
       "      <td>normal</td>\n",
       "    </tr>\n",
       "    <tr>\n",
       "      <th>2</th>\n",
       "      <td>0</td>\n",
       "      <td>tcp</td>\n",
       "      <td>http</td>\n",
       "      <td>SF</td>\n",
       "      <td>235</td>\n",
       "      <td>1337</td>\n",
       "      <td>0</td>\n",
       "      <td>0</td>\n",
       "      <td>0</td>\n",
       "      <td>0</td>\n",
       "      <td>...</td>\n",
       "      <td>1.0</td>\n",
       "      <td>0.0</td>\n",
       "      <td>0.0</td>\n",
       "      <td>29</td>\n",
       "      <td>29</td>\n",
       "      <td>0.0</td>\n",
       "      <td>0.03</td>\n",
       "      <td>0.0</td>\n",
       "      <td>normal.</td>\n",
       "      <td>normal</td>\n",
       "    </tr>\n",
       "    <tr>\n",
       "      <th>3</th>\n",
       "      <td>0</td>\n",
       "      <td>tcp</td>\n",
       "      <td>http</td>\n",
       "      <td>SF</td>\n",
       "      <td>219</td>\n",
       "      <td>1337</td>\n",
       "      <td>0</td>\n",
       "      <td>0</td>\n",
       "      <td>0</td>\n",
       "      <td>0</td>\n",
       "      <td>...</td>\n",
       "      <td>1.0</td>\n",
       "      <td>0.0</td>\n",
       "      <td>0.0</td>\n",
       "      <td>39</td>\n",
       "      <td>39</td>\n",
       "      <td>0.0</td>\n",
       "      <td>0.03</td>\n",
       "      <td>0.0</td>\n",
       "      <td>normal.</td>\n",
       "      <td>normal</td>\n",
       "    </tr>\n",
       "    <tr>\n",
       "      <th>4</th>\n",
       "      <td>0</td>\n",
       "      <td>tcp</td>\n",
       "      <td>http</td>\n",
       "      <td>SF</td>\n",
       "      <td>217</td>\n",
       "      <td>2032</td>\n",
       "      <td>0</td>\n",
       "      <td>0</td>\n",
       "      <td>0</td>\n",
       "      <td>0</td>\n",
       "      <td>...</td>\n",
       "      <td>1.0</td>\n",
       "      <td>0.0</td>\n",
       "      <td>0.0</td>\n",
       "      <td>49</td>\n",
       "      <td>49</td>\n",
       "      <td>0.0</td>\n",
       "      <td>0.02</td>\n",
       "      <td>0.0</td>\n",
       "      <td>normal.</td>\n",
       "      <td>normal</td>\n",
       "    </tr>\n",
       "  </tbody>\n",
       "</table>\n",
       "<p>5 rows × 33 columns</p>\n",
       "</div>"
      ],
      "text/plain": [
       "   duration protocol type service flag  src bytes  dst bytes  Land  \\\n",
       "0         0           tcp    http   SF        181       5450     0   \n",
       "1         0           tcp    http   SF        239        486     0   \n",
       "2         0           tcp    http   SF        235       1337     0   \n",
       "3         0           tcp    http   SF        219       1337     0   \n",
       "4         0           tcp    http   SF        217       2032     0   \n",
       "\n",
       "   wrong fragment  urgent  hot  ...  same srv_rate  diff srv_rate  \\\n",
       "0               0       0    0  ...            1.0            0.0   \n",
       "1               0       0    0  ...            1.0            0.0   \n",
       "2               0       0    0  ...            1.0            0.0   \n",
       "3               0       0    0  ...            1.0            0.0   \n",
       "4               0       0    0  ...            1.0            0.0   \n",
       "\n",
       "   SEV diff host_rate  dst host count  dst host srv_count  \\\n",
       "0                 0.0               9                   9   \n",
       "1                 0.0              19                  19   \n",
       "2                 0.0              29                  29   \n",
       "3                 0.0              39                  39   \n",
       "4                 0.0              49                  49   \n",
       "\n",
       "   dst host diff sry rate  dst host same src port rate  \\\n",
       "0                     0.0                         0.11   \n",
       "1                     0.0                         0.05   \n",
       "2                     0.0                         0.03   \n",
       "3                     0.0                         0.03   \n",
       "4                     0.0                         0.02   \n",
       "\n",
       "   dst_host_srv_diff_host_rate   target  Attack Type  \n",
       "0                          0.0  normal.       normal  \n",
       "1                          0.0  normal.       normal  \n",
       "2                          0.0  normal.       normal  \n",
       "3                          0.0  normal.       normal  \n",
       "4                          0.0  normal.       normal  \n",
       "\n",
       "[5 rows x 33 columns]"
      ]
     },
     "execution_count": 42,
     "metadata": {},
     "output_type": "execute_result"
    }
   ],
   "source": [
    "df.head()"
   ]
  },
  {
   "cell_type": "code",
   "execution_count": 43,
   "id": "5776678f",
   "metadata": {},
   "outputs": [
    {
     "data": {
      "text/plain": [
       "Index(['duration', 'protocol type', 'service', 'flag', 'src bytes',\n",
       "       'dst bytes', 'Land', 'wrong fragment', 'urgent', 'hot',\n",
       "       'nums failed logins', 'logged in', 'num compromised', 'root shell',\n",
       "       'su attempted', 'num_file_creations', 'num_shells', 'num_access files',\n",
       "       'is guest_login', 'count', 'sev count', 'serror rate', 'terror_rate',\n",
       "       'same srv_rate', 'diff srv_rate', 'SEV diff host_rate',\n",
       "       'dst host count', 'dst host srv_count', 'dst host diff sry rate',\n",
       "       'dst host same src port rate', 'dst_host_srv_diff_host_rate', 'target',\n",
       "       'Attack Type'],\n",
       "      dtype='object')"
      ]
     },
     "execution_count": 43,
     "metadata": {},
     "output_type": "execute_result"
    }
   ],
   "source": [
    "df.columns"
   ]
  },
  {
   "cell_type": "code",
   "execution_count": 44,
   "id": "ea063fd3",
   "metadata": {},
   "outputs": [
    {
     "name": "stderr",
     "output_type": "stream",
     "text": [
      "C:\\Users\\kesha\\AppData\\Local\\Temp\\ipykernel_20912\\3128423343.py:1: FutureWarning: Dropping of nuisance columns in DataFrame reductions (with 'numeric_only=None') is deprecated; in a future version this will raise TypeError.  Select only valid columns before calling the reduction.\n",
      "  df_std=df.std()\n"
     ]
    },
    {
     "data": {
      "text/plain": [
       "urgent                              0.005510\n",
       "Land                                0.006673\n",
       "su attempted                        0.007793\n",
       "root shell                          0.010551\n",
       "num_shells                          0.011020\n",
       "nums failed logins                  0.015520\n",
       "num_access files                    0.036482\n",
       "is guest_login                      0.037211\n",
       "diff srv_rate                       0.082205\n",
       "num_file_creations                  0.096416\n",
       "dst host diff sry rate              0.109259\n",
       "wrong fragment                      0.134805\n",
       "SEV diff host_rate                  0.142397\n",
       "terror_rate                         0.231623\n",
       "logged in                           0.355345\n",
       "dst_host_srv_diff_host_rate         0.380593\n",
       "serror rate                         0.380717\n",
       "same srv_rate                       0.388189\n",
       "dst host same src port rate         0.481309\n",
       "hot                                 0.782103\n",
       "num compromised                     1.798326\n",
       "dst host count                     64.745380\n",
       "dst host srv_count                106.040437\n",
       "count                             213.147412\n",
       "sev count                         246.322817\n",
       "duration                          707.746472\n",
       "dst bytes                       33040.001252\n",
       "src bytes                      988218.101045\n",
       "dtype: float64"
      ]
     },
     "execution_count": 44,
     "metadata": {},
     "output_type": "execute_result"
    }
   ],
   "source": [
    "df_std=df.std()\n",
    "df_std=df_std.sort_values(ascending = True)\n",
    "df_std"
   ]
  },
  {
   "cell_type": "code",
   "execution_count": 45,
   "id": "052b8528",
   "metadata": {},
   "outputs": [
    {
     "data": {
      "text/plain": [
       "icmp    283602\n",
       "tcp     190065\n",
       "udp      20354\n",
       "Name: protocol type, dtype: int64"
      ]
     },
     "execution_count": 45,
     "metadata": {},
     "output_type": "execute_result"
    }
   ],
   "source": [
    "df['protocol type'].value_counts()"
   ]
  },
  {
   "cell_type": "code",
   "execution_count": 46,
   "id": "68f9b153",
   "metadata": {},
   "outputs": [],
   "source": [
    "#protocol_type feature mapping\n",
    "pmap={'icmp':0, 'tcp':1, \"udp\":2}\n",
    "df[\"protocol type\"]=df[\"protocol type\"].map(pmap)"
   ]
  },
  {
   "cell_type": "code",
   "execution_count": 47,
   "id": "4ed858cd",
   "metadata": {},
   "outputs": [
    {
     "data": {
      "text/plain": [
       "0    283602\n",
       "1    190065\n",
       "2     20354\n",
       "Name: protocol type, dtype: int64"
      ]
     },
     "execution_count": 47,
     "metadata": {},
     "output_type": "execute_result"
    }
   ],
   "source": [
    "df['protocol type'].value_counts()"
   ]
  },
  {
   "cell_type": "code",
   "execution_count": 48,
   "id": "5d78a00c",
   "metadata": {},
   "outputs": [
    {
     "data": {
      "text/plain": [
       "SF        378440\n",
       "S0         87007\n",
       "REJ        26875\n",
       "RSTR         903\n",
       "RSTO         579\n",
       "SH           107\n",
       "S1            57\n",
       "S2            24\n",
       "RSTOS0        11\n",
       "S3            10\n",
       "OTH            8\n",
       "Name: flag, dtype: int64"
      ]
     },
     "execution_count": 48,
     "metadata": {},
     "output_type": "execute_result"
    }
   ],
   "source": [
    "df['flag'].value_counts()"
   ]
  },
  {
   "cell_type": "code",
   "execution_count": 49,
   "id": "07bb1ee6",
   "metadata": {},
   "outputs": [],
   "source": [
    "#flag feature mapping\n",
    "fmap = {'SF':0, 'S0':1, 'REJ' :2, 'RSTR':3, 'RSTO' :4, 'SH' :5, 'S1':6, 'S2':7, 'RSTOS0':8, 'S3':9,'OTH':10}\n",
    "df['flag'] = df['flag'].map(fmap)"
   ]
  },
  {
   "cell_type": "code",
   "execution_count": 50,
   "id": "28d7e6b1",
   "metadata": {},
   "outputs": [
    {
     "data": {
      "text/plain": [
       "0     378440\n",
       "1      87007\n",
       "2      26875\n",
       "3        903\n",
       "4        579\n",
       "5        107\n",
       "6         57\n",
       "7         24\n",
       "8         11\n",
       "9         10\n",
       "10         8\n",
       "Name: flag, dtype: int64"
      ]
     },
     "execution_count": 50,
     "metadata": {},
     "output_type": "execute_result"
    }
   ],
   "source": [
    "df['flag'].value_counts()"
   ]
  },
  {
   "cell_type": "code",
   "execution_count": 51,
   "id": "1e9217e8",
   "metadata": {},
   "outputs": [
    {
     "data": {
      "text/html": [
       "<div>\n",
       "<style scoped>\n",
       "    .dataframe tbody tr th:only-of-type {\n",
       "        vertical-align: middle;\n",
       "    }\n",
       "\n",
       "    .dataframe tbody tr th {\n",
       "        vertical-align: top;\n",
       "    }\n",
       "\n",
       "    .dataframe thead th {\n",
       "        text-align: right;\n",
       "    }\n",
       "</style>\n",
       "<table border=\"1\" class=\"dataframe\">\n",
       "  <thead>\n",
       "    <tr style=\"text-align: right;\">\n",
       "      <th></th>\n",
       "      <th>duration</th>\n",
       "      <th>protocol type</th>\n",
       "      <th>service</th>\n",
       "      <th>flag</th>\n",
       "      <th>src bytes</th>\n",
       "      <th>dst bytes</th>\n",
       "      <th>Land</th>\n",
       "      <th>wrong fragment</th>\n",
       "      <th>urgent</th>\n",
       "      <th>hot</th>\n",
       "      <th>...</th>\n",
       "      <th>same srv_rate</th>\n",
       "      <th>diff srv_rate</th>\n",
       "      <th>SEV diff host_rate</th>\n",
       "      <th>dst host count</th>\n",
       "      <th>dst host srv_count</th>\n",
       "      <th>dst host diff sry rate</th>\n",
       "      <th>dst host same src port rate</th>\n",
       "      <th>dst_host_srv_diff_host_rate</th>\n",
       "      <th>target</th>\n",
       "      <th>Attack Type</th>\n",
       "    </tr>\n",
       "  </thead>\n",
       "  <tbody>\n",
       "    <tr>\n",
       "      <th>0</th>\n",
       "      <td>0</td>\n",
       "      <td>1</td>\n",
       "      <td>http</td>\n",
       "      <td>0</td>\n",
       "      <td>181</td>\n",
       "      <td>5450</td>\n",
       "      <td>0</td>\n",
       "      <td>0</td>\n",
       "      <td>0</td>\n",
       "      <td>0</td>\n",
       "      <td>...</td>\n",
       "      <td>1.0</td>\n",
       "      <td>0.0</td>\n",
       "      <td>0.0</td>\n",
       "      <td>9</td>\n",
       "      <td>9</td>\n",
       "      <td>0.0</td>\n",
       "      <td>0.11</td>\n",
       "      <td>0.0</td>\n",
       "      <td>normal.</td>\n",
       "      <td>normal</td>\n",
       "    </tr>\n",
       "    <tr>\n",
       "      <th>1</th>\n",
       "      <td>0</td>\n",
       "      <td>1</td>\n",
       "      <td>http</td>\n",
       "      <td>0</td>\n",
       "      <td>239</td>\n",
       "      <td>486</td>\n",
       "      <td>0</td>\n",
       "      <td>0</td>\n",
       "      <td>0</td>\n",
       "      <td>0</td>\n",
       "      <td>...</td>\n",
       "      <td>1.0</td>\n",
       "      <td>0.0</td>\n",
       "      <td>0.0</td>\n",
       "      <td>19</td>\n",
       "      <td>19</td>\n",
       "      <td>0.0</td>\n",
       "      <td>0.05</td>\n",
       "      <td>0.0</td>\n",
       "      <td>normal.</td>\n",
       "      <td>normal</td>\n",
       "    </tr>\n",
       "    <tr>\n",
       "      <th>2</th>\n",
       "      <td>0</td>\n",
       "      <td>1</td>\n",
       "      <td>http</td>\n",
       "      <td>0</td>\n",
       "      <td>235</td>\n",
       "      <td>1337</td>\n",
       "      <td>0</td>\n",
       "      <td>0</td>\n",
       "      <td>0</td>\n",
       "      <td>0</td>\n",
       "      <td>...</td>\n",
       "      <td>1.0</td>\n",
       "      <td>0.0</td>\n",
       "      <td>0.0</td>\n",
       "      <td>29</td>\n",
       "      <td>29</td>\n",
       "      <td>0.0</td>\n",
       "      <td>0.03</td>\n",
       "      <td>0.0</td>\n",
       "      <td>normal.</td>\n",
       "      <td>normal</td>\n",
       "    </tr>\n",
       "    <tr>\n",
       "      <th>3</th>\n",
       "      <td>0</td>\n",
       "      <td>1</td>\n",
       "      <td>http</td>\n",
       "      <td>0</td>\n",
       "      <td>219</td>\n",
       "      <td>1337</td>\n",
       "      <td>0</td>\n",
       "      <td>0</td>\n",
       "      <td>0</td>\n",
       "      <td>0</td>\n",
       "      <td>...</td>\n",
       "      <td>1.0</td>\n",
       "      <td>0.0</td>\n",
       "      <td>0.0</td>\n",
       "      <td>39</td>\n",
       "      <td>39</td>\n",
       "      <td>0.0</td>\n",
       "      <td>0.03</td>\n",
       "      <td>0.0</td>\n",
       "      <td>normal.</td>\n",
       "      <td>normal</td>\n",
       "    </tr>\n",
       "    <tr>\n",
       "      <th>4</th>\n",
       "      <td>0</td>\n",
       "      <td>1</td>\n",
       "      <td>http</td>\n",
       "      <td>0</td>\n",
       "      <td>217</td>\n",
       "      <td>2032</td>\n",
       "      <td>0</td>\n",
       "      <td>0</td>\n",
       "      <td>0</td>\n",
       "      <td>0</td>\n",
       "      <td>...</td>\n",
       "      <td>1.0</td>\n",
       "      <td>0.0</td>\n",
       "      <td>0.0</td>\n",
       "      <td>49</td>\n",
       "      <td>49</td>\n",
       "      <td>0.0</td>\n",
       "      <td>0.02</td>\n",
       "      <td>0.0</td>\n",
       "      <td>normal.</td>\n",
       "      <td>normal</td>\n",
       "    </tr>\n",
       "  </tbody>\n",
       "</table>\n",
       "<p>5 rows × 33 columns</p>\n",
       "</div>"
      ],
      "text/plain": [
       "   duration  protocol type service  flag  src bytes  dst bytes  Land  \\\n",
       "0         0              1    http     0        181       5450     0   \n",
       "1         0              1    http     0        239        486     0   \n",
       "2         0              1    http     0        235       1337     0   \n",
       "3         0              1    http     0        219       1337     0   \n",
       "4         0              1    http     0        217       2032     0   \n",
       "\n",
       "   wrong fragment  urgent  hot  ...  same srv_rate  diff srv_rate  \\\n",
       "0               0       0    0  ...            1.0            0.0   \n",
       "1               0       0    0  ...            1.0            0.0   \n",
       "2               0       0    0  ...            1.0            0.0   \n",
       "3               0       0    0  ...            1.0            0.0   \n",
       "4               0       0    0  ...            1.0            0.0   \n",
       "\n",
       "   SEV diff host_rate  dst host count  dst host srv_count  \\\n",
       "0                 0.0               9                   9   \n",
       "1                 0.0              19                  19   \n",
       "2                 0.0              29                  29   \n",
       "3                 0.0              39                  39   \n",
       "4                 0.0              49                  49   \n",
       "\n",
       "   dst host diff sry rate  dst host same src port rate  \\\n",
       "0                     0.0                         0.11   \n",
       "1                     0.0                         0.05   \n",
       "2                     0.0                         0.03   \n",
       "3                     0.0                         0.03   \n",
       "4                     0.0                         0.02   \n",
       "\n",
       "   dst_host_srv_diff_host_rate   target  Attack Type  \n",
       "0                          0.0  normal.       normal  \n",
       "1                          0.0  normal.       normal  \n",
       "2                          0.0  normal.       normal  \n",
       "3                          0.0  normal.       normal  \n",
       "4                          0.0  normal.       normal  \n",
       "\n",
       "[5 rows x 33 columns]"
      ]
     },
     "execution_count": 51,
     "metadata": {},
     "output_type": "execute_result"
    }
   ],
   "source": [
    "df.head()"
   ]
  },
  {
   "cell_type": "code",
   "execution_count": 52,
   "id": "8c5de3b5",
   "metadata": {},
   "outputs": [
    {
     "data": {
      "text/plain": [
       "ecr_i      281400\n",
       "private    110893\n",
       "http        64293\n",
       "smtp         9723\n",
       "other        7237\n",
       "            ...  \n",
       "X11            11\n",
       "tim_i           7\n",
       "pm_dump         1\n",
       "tftp_u          1\n",
       "red_i           1\n",
       "Name: service, Length: 66, dtype: int64"
      ]
     },
     "execution_count": 52,
     "metadata": {},
     "output_type": "execute_result"
    }
   ],
   "source": [
    "df['service'].value_counts()"
   ]
  },
  {
   "cell_type": "code",
   "execution_count": 53,
   "id": "b299ccc8",
   "metadata": {},
   "outputs": [],
   "source": [
    "df.drop('service',axis = 1, inplace=True)#removing catagorical feature"
   ]
  },
  {
   "cell_type": "code",
   "execution_count": 54,
   "id": "7217bc2b",
   "metadata": {},
   "outputs": [
    {
     "data": {
      "text/plain": [
       "duration                         int64\n",
       "protocol type                    int64\n",
       "flag                             int64\n",
       "src bytes                        int64\n",
       "dst bytes                        int64\n",
       "Land                             int64\n",
       "wrong fragment                   int64\n",
       "urgent                           int64\n",
       "hot                              int64\n",
       "nums failed logins               int64\n",
       "logged in                        int64\n",
       "num compromised                  int64\n",
       "root shell                       int64\n",
       "su attempted                     int64\n",
       "num_file_creations               int64\n",
       "num_shells                       int64\n",
       "num_access files                 int64\n",
       "is guest_login                   int64\n",
       "count                            int64\n",
       "sev count                        int64\n",
       "serror rate                    float64\n",
       "terror_rate                    float64\n",
       "same srv_rate                  float64\n",
       "diff srv_rate                  float64\n",
       "SEV diff host_rate             float64\n",
       "dst host count                   int64\n",
       "dst host srv_count               int64\n",
       "dst host diff sry rate         float64\n",
       "dst host same src port rate    float64\n",
       "dst_host_srv_diff_host_rate    float64\n",
       "target                          object\n",
       "Attack Type                     object\n",
       "dtype: object"
      ]
     },
     "execution_count": 54,
     "metadata": {},
     "output_type": "execute_result"
    }
   ],
   "source": [
    "df.dtypes"
   ]
  },
  {
   "cell_type": "code",
   "execution_count": 61,
   "id": "3afab470",
   "metadata": {},
   "outputs": [],
   "source": [
    "from sklearn.model_selection import train_test_split\n",
    "from sklearn.preprocessing import MinMaxScaler\n",
    "from sklearn.metrics import accuracy_score"
   ]
  },
  {
   "cell_type": "code",
   "execution_count": 62,
   "id": "6d1dce98",
   "metadata": {},
   "outputs": [
    {
     "name": "stdout",
     "output_type": "stream",
     "text": [
      "(494021, 31)\n",
      "(395216, 30) (98805, 30)\n",
      "(395216, 1) (98805, 1)\n"
     ]
    }
   ],
   "source": [
    "df = df.drop( [\"target\",], axis=1)\n",
    "print(df.shape)\n",
    "\n",
    "#target partable and train set\n",
    "Y = df[[ 'Attack Type']]\n",
    "X = df.drop(['Attack Type',], axis=1)\n",
    "sc = MinMaxScaler()\n",
    "X = sc.fit_transform(X)\n",
    "# split test and train data\n",
    "X_train, X_test, Y_train, Y_test = train_test_split(X, Y, test_size=0.2, random_state=100)\n",
    "print(X_train.shape, X_test.shape)\n",
    "print(Y_train.shape, Y_test.shape)\n"
   ]
  },
  {
   "cell_type": "code",
   "execution_count": 63,
   "id": "c42fe2c5",
   "metadata": {},
   "outputs": [
    {
     "data": {
      "text/html": [
       "<div>\n",
       "<style scoped>\n",
       "    .dataframe tbody tr th:only-of-type {\n",
       "        vertical-align: middle;\n",
       "    }\n",
       "\n",
       "    .dataframe tbody tr th {\n",
       "        vertical-align: top;\n",
       "    }\n",
       "\n",
       "    .dataframe thead th {\n",
       "        text-align: right;\n",
       "    }\n",
       "</style>\n",
       "<table border=\"1\" class=\"dataframe\">\n",
       "  <thead>\n",
       "    <tr style=\"text-align: right;\">\n",
       "      <th></th>\n",
       "      <th>duration</th>\n",
       "      <th>protocol type</th>\n",
       "      <th>flag</th>\n",
       "      <th>src bytes</th>\n",
       "      <th>dst bytes</th>\n",
       "      <th>Land</th>\n",
       "      <th>wrong fragment</th>\n",
       "      <th>urgent</th>\n",
       "      <th>hot</th>\n",
       "      <th>nums failed logins</th>\n",
       "      <th>...</th>\n",
       "      <th>terror_rate</th>\n",
       "      <th>same srv_rate</th>\n",
       "      <th>diff srv_rate</th>\n",
       "      <th>SEV diff host_rate</th>\n",
       "      <th>dst host count</th>\n",
       "      <th>dst host srv_count</th>\n",
       "      <th>dst host diff sry rate</th>\n",
       "      <th>dst host same src port rate</th>\n",
       "      <th>dst_host_srv_diff_host_rate</th>\n",
       "      <th>Attack Type</th>\n",
       "    </tr>\n",
       "  </thead>\n",
       "  <tbody>\n",
       "    <tr>\n",
       "      <th>0</th>\n",
       "      <td>0</td>\n",
       "      <td>1</td>\n",
       "      <td>0</td>\n",
       "      <td>181</td>\n",
       "      <td>5450</td>\n",
       "      <td>0</td>\n",
       "      <td>0</td>\n",
       "      <td>0</td>\n",
       "      <td>0</td>\n",
       "      <td>0</td>\n",
       "      <td>...</td>\n",
       "      <td>0.0</td>\n",
       "      <td>1.0</td>\n",
       "      <td>0.0</td>\n",
       "      <td>0.00</td>\n",
       "      <td>9</td>\n",
       "      <td>9</td>\n",
       "      <td>0.0</td>\n",
       "      <td>0.11</td>\n",
       "      <td>0.00</td>\n",
       "      <td>normal</td>\n",
       "    </tr>\n",
       "    <tr>\n",
       "      <th>1</th>\n",
       "      <td>0</td>\n",
       "      <td>1</td>\n",
       "      <td>0</td>\n",
       "      <td>239</td>\n",
       "      <td>486</td>\n",
       "      <td>0</td>\n",
       "      <td>0</td>\n",
       "      <td>0</td>\n",
       "      <td>0</td>\n",
       "      <td>0</td>\n",
       "      <td>...</td>\n",
       "      <td>0.0</td>\n",
       "      <td>1.0</td>\n",
       "      <td>0.0</td>\n",
       "      <td>0.00</td>\n",
       "      <td>19</td>\n",
       "      <td>19</td>\n",
       "      <td>0.0</td>\n",
       "      <td>0.05</td>\n",
       "      <td>0.00</td>\n",
       "      <td>normal</td>\n",
       "    </tr>\n",
       "    <tr>\n",
       "      <th>2</th>\n",
       "      <td>0</td>\n",
       "      <td>1</td>\n",
       "      <td>0</td>\n",
       "      <td>235</td>\n",
       "      <td>1337</td>\n",
       "      <td>0</td>\n",
       "      <td>0</td>\n",
       "      <td>0</td>\n",
       "      <td>0</td>\n",
       "      <td>0</td>\n",
       "      <td>...</td>\n",
       "      <td>0.0</td>\n",
       "      <td>1.0</td>\n",
       "      <td>0.0</td>\n",
       "      <td>0.00</td>\n",
       "      <td>29</td>\n",
       "      <td>29</td>\n",
       "      <td>0.0</td>\n",
       "      <td>0.03</td>\n",
       "      <td>0.00</td>\n",
       "      <td>normal</td>\n",
       "    </tr>\n",
       "    <tr>\n",
       "      <th>3</th>\n",
       "      <td>0</td>\n",
       "      <td>1</td>\n",
       "      <td>0</td>\n",
       "      <td>219</td>\n",
       "      <td>1337</td>\n",
       "      <td>0</td>\n",
       "      <td>0</td>\n",
       "      <td>0</td>\n",
       "      <td>0</td>\n",
       "      <td>0</td>\n",
       "      <td>...</td>\n",
       "      <td>0.0</td>\n",
       "      <td>1.0</td>\n",
       "      <td>0.0</td>\n",
       "      <td>0.00</td>\n",
       "      <td>39</td>\n",
       "      <td>39</td>\n",
       "      <td>0.0</td>\n",
       "      <td>0.03</td>\n",
       "      <td>0.00</td>\n",
       "      <td>normal</td>\n",
       "    </tr>\n",
       "    <tr>\n",
       "      <th>4</th>\n",
       "      <td>0</td>\n",
       "      <td>1</td>\n",
       "      <td>0</td>\n",
       "      <td>217</td>\n",
       "      <td>2032</td>\n",
       "      <td>0</td>\n",
       "      <td>0</td>\n",
       "      <td>0</td>\n",
       "      <td>0</td>\n",
       "      <td>0</td>\n",
       "      <td>...</td>\n",
       "      <td>0.0</td>\n",
       "      <td>1.0</td>\n",
       "      <td>0.0</td>\n",
       "      <td>0.00</td>\n",
       "      <td>49</td>\n",
       "      <td>49</td>\n",
       "      <td>0.0</td>\n",
       "      <td>0.02</td>\n",
       "      <td>0.00</td>\n",
       "      <td>normal</td>\n",
       "    </tr>\n",
       "    <tr>\n",
       "      <th>...</th>\n",
       "      <td>...</td>\n",
       "      <td>...</td>\n",
       "      <td>...</td>\n",
       "      <td>...</td>\n",
       "      <td>...</td>\n",
       "      <td>...</td>\n",
       "      <td>...</td>\n",
       "      <td>...</td>\n",
       "      <td>...</td>\n",
       "      <td>...</td>\n",
       "      <td>...</td>\n",
       "      <td>...</td>\n",
       "      <td>...</td>\n",
       "      <td>...</td>\n",
       "      <td>...</td>\n",
       "      <td>...</td>\n",
       "      <td>...</td>\n",
       "      <td>...</td>\n",
       "      <td>...</td>\n",
       "      <td>...</td>\n",
       "      <td>...</td>\n",
       "    </tr>\n",
       "    <tr>\n",
       "      <th>494016</th>\n",
       "      <td>0</td>\n",
       "      <td>1</td>\n",
       "      <td>0</td>\n",
       "      <td>310</td>\n",
       "      <td>1881</td>\n",
       "      <td>0</td>\n",
       "      <td>0</td>\n",
       "      <td>0</td>\n",
       "      <td>0</td>\n",
       "      <td>0</td>\n",
       "      <td>...</td>\n",
       "      <td>0.0</td>\n",
       "      <td>1.0</td>\n",
       "      <td>0.0</td>\n",
       "      <td>0.40</td>\n",
       "      <td>86</td>\n",
       "      <td>255</td>\n",
       "      <td>0.0</td>\n",
       "      <td>0.01</td>\n",
       "      <td>0.00</td>\n",
       "      <td>normal</td>\n",
       "    </tr>\n",
       "    <tr>\n",
       "      <th>494017</th>\n",
       "      <td>0</td>\n",
       "      <td>1</td>\n",
       "      <td>0</td>\n",
       "      <td>282</td>\n",
       "      <td>2286</td>\n",
       "      <td>0</td>\n",
       "      <td>0</td>\n",
       "      <td>0</td>\n",
       "      <td>0</td>\n",
       "      <td>0</td>\n",
       "      <td>...</td>\n",
       "      <td>0.0</td>\n",
       "      <td>1.0</td>\n",
       "      <td>0.0</td>\n",
       "      <td>0.00</td>\n",
       "      <td>6</td>\n",
       "      <td>255</td>\n",
       "      <td>0.0</td>\n",
       "      <td>0.17</td>\n",
       "      <td>0.00</td>\n",
       "      <td>normal</td>\n",
       "    </tr>\n",
       "    <tr>\n",
       "      <th>494018</th>\n",
       "      <td>0</td>\n",
       "      <td>1</td>\n",
       "      <td>0</td>\n",
       "      <td>203</td>\n",
       "      <td>1200</td>\n",
       "      <td>0</td>\n",
       "      <td>0</td>\n",
       "      <td>0</td>\n",
       "      <td>0</td>\n",
       "      <td>0</td>\n",
       "      <td>...</td>\n",
       "      <td>0.0</td>\n",
       "      <td>1.0</td>\n",
       "      <td>0.0</td>\n",
       "      <td>0.17</td>\n",
       "      <td>16</td>\n",
       "      <td>255</td>\n",
       "      <td>0.0</td>\n",
       "      <td>0.06</td>\n",
       "      <td>0.06</td>\n",
       "      <td>normal</td>\n",
       "    </tr>\n",
       "    <tr>\n",
       "      <th>494019</th>\n",
       "      <td>0</td>\n",
       "      <td>1</td>\n",
       "      <td>0</td>\n",
       "      <td>291</td>\n",
       "      <td>1200</td>\n",
       "      <td>0</td>\n",
       "      <td>0</td>\n",
       "      <td>0</td>\n",
       "      <td>0</td>\n",
       "      <td>0</td>\n",
       "      <td>...</td>\n",
       "      <td>0.0</td>\n",
       "      <td>1.0</td>\n",
       "      <td>0.0</td>\n",
       "      <td>0.17</td>\n",
       "      <td>26</td>\n",
       "      <td>255</td>\n",
       "      <td>0.0</td>\n",
       "      <td>0.04</td>\n",
       "      <td>0.04</td>\n",
       "      <td>normal</td>\n",
       "    </tr>\n",
       "    <tr>\n",
       "      <th>494020</th>\n",
       "      <td>0</td>\n",
       "      <td>1</td>\n",
       "      <td>0</td>\n",
       "      <td>219</td>\n",
       "      <td>1234</td>\n",
       "      <td>0</td>\n",
       "      <td>0</td>\n",
       "      <td>0</td>\n",
       "      <td>0</td>\n",
       "      <td>0</td>\n",
       "      <td>...</td>\n",
       "      <td>0.0</td>\n",
       "      <td>1.0</td>\n",
       "      <td>0.0</td>\n",
       "      <td>0.14</td>\n",
       "      <td>6</td>\n",
       "      <td>255</td>\n",
       "      <td>0.0</td>\n",
       "      <td>0.17</td>\n",
       "      <td>0.00</td>\n",
       "      <td>normal</td>\n",
       "    </tr>\n",
       "  </tbody>\n",
       "</table>\n",
       "<p>494021 rows × 31 columns</p>\n",
       "</div>"
      ],
      "text/plain": [
       "        duration  protocol type  flag  src bytes  dst bytes  Land  \\\n",
       "0              0              1     0        181       5450     0   \n",
       "1              0              1     0        239        486     0   \n",
       "2              0              1     0        235       1337     0   \n",
       "3              0              1     0        219       1337     0   \n",
       "4              0              1     0        217       2032     0   \n",
       "...          ...            ...   ...        ...        ...   ...   \n",
       "494016         0              1     0        310       1881     0   \n",
       "494017         0              1     0        282       2286     0   \n",
       "494018         0              1     0        203       1200     0   \n",
       "494019         0              1     0        291       1200     0   \n",
       "494020         0              1     0        219       1234     0   \n",
       "\n",
       "        wrong fragment  urgent  hot  nums failed logins  ...  terror_rate  \\\n",
       "0                    0       0    0                   0  ...          0.0   \n",
       "1                    0       0    0                   0  ...          0.0   \n",
       "2                    0       0    0                   0  ...          0.0   \n",
       "3                    0       0    0                   0  ...          0.0   \n",
       "4                    0       0    0                   0  ...          0.0   \n",
       "...                ...     ...  ...                 ...  ...          ...   \n",
       "494016               0       0    0                   0  ...          0.0   \n",
       "494017               0       0    0                   0  ...          0.0   \n",
       "494018               0       0    0                   0  ...          0.0   \n",
       "494019               0       0    0                   0  ...          0.0   \n",
       "494020               0       0    0                   0  ...          0.0   \n",
       "\n",
       "        same srv_rate  diff srv_rate  SEV diff host_rate  dst host count  \\\n",
       "0                 1.0            0.0                0.00               9   \n",
       "1                 1.0            0.0                0.00              19   \n",
       "2                 1.0            0.0                0.00              29   \n",
       "3                 1.0            0.0                0.00              39   \n",
       "4                 1.0            0.0                0.00              49   \n",
       "...               ...            ...                 ...             ...   \n",
       "494016            1.0            0.0                0.40              86   \n",
       "494017            1.0            0.0                0.00               6   \n",
       "494018            1.0            0.0                0.17              16   \n",
       "494019            1.0            0.0                0.17              26   \n",
       "494020            1.0            0.0                0.14               6   \n",
       "\n",
       "        dst host srv_count  dst host diff sry rate  \\\n",
       "0                        9                     0.0   \n",
       "1                       19                     0.0   \n",
       "2                       29                     0.0   \n",
       "3                       39                     0.0   \n",
       "4                       49                     0.0   \n",
       "...                    ...                     ...   \n",
       "494016                 255                     0.0   \n",
       "494017                 255                     0.0   \n",
       "494018                 255                     0.0   \n",
       "494019                 255                     0.0   \n",
       "494020                 255                     0.0   \n",
       "\n",
       "        dst host same src port rate  dst_host_srv_diff_host_rate  Attack Type  \n",
       "0                              0.11                         0.00       normal  \n",
       "1                              0.05                         0.00       normal  \n",
       "2                              0.03                         0.00       normal  \n",
       "3                              0.03                         0.00       normal  \n",
       "4                              0.02                         0.00       normal  \n",
       "...                             ...                          ...          ...  \n",
       "494016                         0.01                         0.00       normal  \n",
       "494017                         0.17                         0.00       normal  \n",
       "494018                         0.06                         0.06       normal  \n",
       "494019                         0.04                         0.04       normal  \n",
       "494020                         0.17                         0.00       normal  \n",
       "\n",
       "[494021 rows x 31 columns]"
      ]
     },
     "execution_count": 63,
     "metadata": {},
     "output_type": "execute_result"
    }
   ],
   "source": [
    "df1=df\n",
    "\n",
    "df1"
   ]
  },
  {
   "cell_type": "code",
   "execution_count": 64,
   "id": "347d7d78",
   "metadata": {},
   "outputs": [],
   "source": [
    "df=df1"
   ]
  },
  {
   "cell_type": "code",
   "execution_count": 65,
   "id": "91b7606a",
   "metadata": {},
   "outputs": [
    {
     "name": "stdout",
     "output_type": "stream",
     "text": [
      "[[0.   0.   0.   ... 0.   1.   0.  ]\n",
      " [0.   0.   0.   ... 0.   1.   0.  ]\n",
      " [0.   1.   0.   ... 0.86 1.   0.  ]\n",
      " ...\n",
      " [0.   0.   0.   ... 0.   1.   0.  ]\n",
      " [0.   0.5  0.   ... 0.   0.   0.  ]\n",
      " [0.   0.   0.   ... 0.   1.   0.  ]]\n"
     ]
    }
   ],
   "source": [
    "print(X_test)"
   ]
  },
  {
   "cell_type": "code",
   "execution_count": 66,
   "id": "48939b2e",
   "metadata": {},
   "outputs": [],
   "source": [
    "#X_test=X_test[:4940]\n",
    "#Y_test=Y_test[:4940]\n",
    "#print(X_train.shape, X_test.shape)\n",
    "#print(Y_train.shape, Y_test.shape)"
   ]
  },
  {
   "cell_type": "markdown",
   "id": "2a24b887",
   "metadata": {},
   "source": [
    "# Naive Bayes"
   ]
  },
  {
   "cell_type": "code",
   "execution_count": 67,
   "id": "1aa6455a",
   "metadata": {},
   "outputs": [],
   "source": [
    "from sklearn.naive_bayes import GaussianNB\n",
    "import time"
   ]
  },
  {
   "cell_type": "code",
   "execution_count": 68,
   "id": "a434cf71",
   "metadata": {},
   "outputs": [],
   "source": [
    "model1=GaussianNB()"
   ]
  },
  {
   "cell_type": "code",
   "execution_count": 69,
   "id": "9f7114cc",
   "metadata": {},
   "outputs": [
    {
     "name": "stderr",
     "output_type": "stream",
     "text": [
      "C:\\Users\\kesha\\anaconda3\\lib\\site-packages\\sklearn\\utils\\validation.py:993: DataConversionWarning: A column-vector y was passed when a 1d array was expected. Please change the shape of y to (n_samples, ), for example using ravel().\n",
      "  y = column_or_1d(y, warn=True)\n"
     ]
    }
   ],
   "source": [
    "start_time = time.time()\n",
    "model1.fit(X_train, Y_train)\n",
    "end_time = time.time()"
   ]
  },
  {
   "cell_type": "code",
   "execution_count": 70,
   "id": "b9aff3c8",
   "metadata": {},
   "outputs": [
    {
     "name": "stdout",
     "output_type": "stream",
     "text": [
      "Training Time =  0.94 s\n"
     ]
    }
   ],
   "source": [
    "print(\"Training Time = \", round(end_time-start_time,2),\"s\")"
   ]
  },
  {
   "cell_type": "code",
   "execution_count": 71,
   "id": "0033e5d8",
   "metadata": {},
   "outputs": [],
   "source": [
    "start_time = time.time()\n",
    "Y_test_pred=model1.predict(X_test)\n",
    "end_time = time.time()"
   ]
  },
  {
   "cell_type": "code",
   "execution_count": 72,
   "id": "c620c907",
   "metadata": {},
   "outputs": [
    {
     "name": "stdout",
     "output_type": "stream",
     "text": [
      "Testing Time =  0.7 s\n"
     ]
    }
   ],
   "source": [
    "print(\"Testing Time = \", round(end_time-start_time,2),\"s\")"
   ]
  },
  {
   "cell_type": "code",
   "execution_count": 73,
   "id": "758d23e0",
   "metadata": {},
   "outputs": [
    {
     "name": "stdout",
     "output_type": "stream",
     "text": [
      "Accuracy: 88.89 %\n"
     ]
    }
   ],
   "source": [
    "accuracy = accuracy_score(Y_test, Y_test_pred)\n",
    "print(\"Accuracy:\", round(accuracy*100,2),\"%\")"
   ]
  },
  {
   "cell_type": "markdown",
   "id": "99cb7768",
   "metadata": {},
   "source": [
    "# Logistic Regression"
   ]
  },
  {
   "cell_type": "code",
   "execution_count": 74,
   "id": "4eeb8a04",
   "metadata": {},
   "outputs": [],
   "source": [
    "from sklearn.linear_model import LogisticRegression"
   ]
  },
  {
   "cell_type": "code",
   "execution_count": 75,
   "id": "fdd8ac0f",
   "metadata": {},
   "outputs": [],
   "source": [
    "model2=LogisticRegression(max_iter=1200)"
   ]
  },
  {
   "cell_type": "code",
   "execution_count": 76,
   "id": "7aa87efb",
   "metadata": {},
   "outputs": [
    {
     "name": "stderr",
     "output_type": "stream",
     "text": [
      "C:\\Users\\kesha\\anaconda3\\lib\\site-packages\\sklearn\\utils\\validation.py:993: DataConversionWarning: A column-vector y was passed when a 1d array was expected. Please change the shape of y to (n_samples, ), for example using ravel().\n",
      "  y = column_or_1d(y, warn=True)\n"
     ]
    }
   ],
   "source": [
    "start_time = time.time()\n",
    "model2.fit(X_train, Y_train)\n",
    "end_time = time.time()"
   ]
  },
  {
   "cell_type": "code",
   "execution_count": 77,
   "id": "6073a61a",
   "metadata": {},
   "outputs": [
    {
     "name": "stdout",
     "output_type": "stream",
     "text": [
      "Training Time =  88.32 s\n"
     ]
    }
   ],
   "source": [
    "print(\"Training Time = \", round(end_time-start_time,2),\"s\")"
   ]
  },
  {
   "cell_type": "code",
   "execution_count": 78,
   "id": "ae40be21",
   "metadata": {},
   "outputs": [],
   "source": [
    "start_time = time.time()\n",
    "Y_test_pred2=model2.predict(X_test)\n",
    "end_time = time.time()"
   ]
  },
  {
   "cell_type": "code",
   "execution_count": 79,
   "id": "0289d569",
   "metadata": {},
   "outputs": [
    {
     "name": "stdout",
     "output_type": "stream",
     "text": [
      "Testing Time =  0.0215 s\n"
     ]
    }
   ],
   "source": [
    "print(\"Testing Time = \", round(end_time-start_time,4),\"s\")"
   ]
  },
  {
   "cell_type": "code",
   "execution_count": 80,
   "id": "2a3ad0fe",
   "metadata": {},
   "outputs": [
    {
     "name": "stdout",
     "output_type": "stream",
     "text": [
      "Accuracy: 99.39 %\n"
     ]
    }
   ],
   "source": [
    "accuracy = accuracy_score(Y_test, Y_test_pred2)\n",
    "print(\"Accuracy:\", round(accuracy*100,2),\"%\")"
   ]
  },
  {
   "cell_type": "markdown",
   "id": "df7f32ca",
   "metadata": {},
   "source": [
    "# Random Forest Regression"
   ]
  },
  {
   "cell_type": "code",
   "execution_count": 81,
   "id": "46fe93d0",
   "metadata": {},
   "outputs": [],
   "source": [
    "from sklearn.ensemble import RandomForestClassifier"
   ]
  },
  {
   "cell_type": "code",
   "execution_count": 82,
   "id": "353e1df3",
   "metadata": {},
   "outputs": [],
   "source": [
    "model3 = RandomForestClassifier(n_estimators=50)"
   ]
  },
  {
   "cell_type": "code",
   "execution_count": 83,
   "id": "360f145a",
   "metadata": {},
   "outputs": [
    {
     "name": "stderr",
     "output_type": "stream",
     "text": [
      "C:\\Users\\kesha\\AppData\\Local\\Temp\\ipykernel_20912\\4160586133.py:2: DataConversionWarning: A column-vector y was passed when a 1d array was expected. Please change the shape of y to (n_samples,), for example using ravel().\n",
      "  model3.fit(X_train, Y_train)\n"
     ]
    }
   ],
   "source": [
    "start_time = time.time()\n",
    "model3.fit(X_train, Y_train)\n",
    "end_time = time.time()"
   ]
  },
  {
   "cell_type": "code",
   "execution_count": 84,
   "id": "0619977d",
   "metadata": {},
   "outputs": [
    {
     "name": "stdout",
     "output_type": "stream",
     "text": [
      "Training Time =  18.8 s\n"
     ]
    }
   ],
   "source": [
    "print(\"Training Time = \", round(end_time-start_time,2),\"s\")"
   ]
  },
  {
   "cell_type": "code",
   "execution_count": 85,
   "id": "593adc67",
   "metadata": {},
   "outputs": [],
   "source": [
    "start_time = time.time()\n",
    "Y_test_pred3=model3.predict(X_test)\n",
    "end_time = time.time()"
   ]
  },
  {
   "cell_type": "code",
   "execution_count": 86,
   "id": "6b6e9bdf",
   "metadata": {},
   "outputs": [
    {
     "name": "stdout",
     "output_type": "stream",
     "text": [
      "Testing Time =  0.46 s\n"
     ]
    }
   ],
   "source": [
    "print(\"Testing Time = \", round(end_time-start_time,2),\"s\")"
   ]
  },
  {
   "cell_type": "code",
   "execution_count": 87,
   "id": "85064603",
   "metadata": {},
   "outputs": [
    {
     "name": "stdout",
     "output_type": "stream",
     "text": [
      "Accuracy: 99.97 %\n"
     ]
    }
   ],
   "source": [
    "accuracy = accuracy_score(Y_test, Y_test_pred3)\n",
    "print(\"Accuracy:\", round(accuracy*100,2),\"%\")"
   ]
  },
  {
   "cell_type": "markdown",
   "id": "3680cf66",
   "metadata": {},
   "source": [
    "# Support Vector Machine"
   ]
  },
  {
   "cell_type": "code",
   "execution_count": 88,
   "id": "c1798ed7",
   "metadata": {},
   "outputs": [],
   "source": [
    "from sklearn.svm import SVC"
   ]
  },
  {
   "cell_type": "code",
   "execution_count": 89,
   "id": "8c49c666",
   "metadata": {},
   "outputs": [],
   "source": [
    "model4=SVC(kernel='rbf')"
   ]
  },
  {
   "cell_type": "code",
   "execution_count": 90,
   "id": "82deb8eb",
   "metadata": {},
   "outputs": [
    {
     "name": "stderr",
     "output_type": "stream",
     "text": [
      "C:\\Users\\kesha\\anaconda3\\lib\\site-packages\\sklearn\\utils\\validation.py:993: DataConversionWarning: A column-vector y was passed when a 1d array was expected. Please change the shape of y to (n_samples, ), for example using ravel().\n",
      "  y = column_or_1d(y, warn=True)\n"
     ]
    }
   ],
   "source": [
    "start_time = time.time()\n",
    "model4.fit(X_train, Y_train)\n",
    "end_time = time.time()"
   ]
  },
  {
   "cell_type": "code",
   "execution_count": 91,
   "id": "e73b304e",
   "metadata": {},
   "outputs": [
    {
     "name": "stdout",
     "output_type": "stream",
     "text": [
      "Training Time =  36737.16 s\n"
     ]
    }
   ],
   "source": [
    "print(\"Training Time = \", round(end_time-start_time,2),\"s\")"
   ]
  },
  {
   "cell_type": "code",
   "execution_count": 92,
   "id": "d8f792c2",
   "metadata": {},
   "outputs": [],
   "source": [
    "start_time = time.time()\n",
    "Y_test_pred4=model4.predict(X_test)\n",
    "end_time = time.time()"
   ]
  },
  {
   "cell_type": "code",
   "execution_count": 93,
   "id": "be41ddcb",
   "metadata": {},
   "outputs": [
    {
     "name": "stdout",
     "output_type": "stream",
     "text": [
      "Testing Time =  69.27 s\n"
     ]
    }
   ],
   "source": [
    "print(\"Testing Time = \", round(end_time-start_time,2),\"s\")"
   ]
  },
  {
   "cell_type": "code",
   "execution_count": 94,
   "id": "3a570ee3",
   "metadata": {},
   "outputs": [
    {
     "name": "stdout",
     "output_type": "stream",
     "text": [
      "Accuracy: 99.82 %\n"
     ]
    }
   ],
   "source": [
    "accuracy = accuracy_score(Y_test, Y_test_pred4)\n",
    "print(\"Accuracy:\", round(accuracy*100,2),\"%\")"
   ]
  },
  {
   "cell_type": "markdown",
   "id": "4013e820",
   "metadata": {},
   "source": [
    "# Comparison"
   ]
  },
  {
   "cell_type": "code",
   "execution_count": 95,
   "id": "e5583980",
   "metadata": {},
   "outputs": [],
   "source": [
    "import matplotlib.pyplot as plt"
   ]
  },
  {
   "cell_type": "markdown",
   "id": "801b8b6e",
   "metadata": {},
   "source": [
    "### Accuracy Score"
   ]
  },
  {
   "cell_type": "code",
   "execution_count": 96,
   "id": "e7d7012d",
   "metadata": {},
   "outputs": [
    {
     "data": {
      "text/plain": [
       "Text(0.5, 1.0, 'Accuracy Score of models')"
      ]
     },
     "execution_count": 96,
     "metadata": {},
     "output_type": "execute_result"
    },
    {
     "data": {
      "image/png": "[encoded data removed]",
      "text/plain": [
       "<Figure size 2000x500 with 1 Axes>"
      ]
     },
     "metadata": {},
     "output_type": "display_data"
    }
   ],
   "source": [
    "names = ['NB', 'LR', \"RF\", \"SVM\"]\n",
    "values = [88.71, 99.41, 99.97, 99.82]\n",
    "f = plt.figure(figsize =(20,5), num =100)\n",
    "plt.subplot(131)\n",
    "\n",
    "plt.bar(names, values)\n",
    "\n",
    "plt.xlabel(\"Models\")\n",
    "\n",
    "plt.ylabel( \"Accuracy in %\")\n",
    "\n",
    "plt.title(\"Accuracy Score of models\")"
   ]
  },
  {
   "cell_type": "markdown",
   "id": "a92d08a7",
   "metadata": {},
   "source": [
    "### Training Time"
   ]
  },
  {
   "cell_type": "code",
   "execution_count": 97,
   "id": "4ec78793",
   "metadata": {},
   "outputs": [
    {
     "data": {
      "text/plain": [
       "Text(0.5, 1.0, 'Training Time of models')"
      ]
     },
     "execution_count": 97,
     "metadata": {},
     "output_type": "execute_result"
    },
    {
     "data": {
      "image/png": "[encoded data removed]",
      "text/plain": [
       "<Figure size 2000x500 with 1 Axes>"
      ]
     },
     "metadata": {},
     "output_type": "display_data"
    }
   ],
   "source": [
    "names = ['NB', 'LR', \"RF\", \"SVM\"]\n",
    "values1 = [0.62, 70.51, 16.99, 1501.16]\n",
    "values2 = [0.19, 0.0464, 0.5, 79.84]\n",
    "f = plt.figure(figsize =(20,5), num =10)\n",
    "plt.subplot(131)\n",
    "\n",
    "plt.bar(names, values1, label=names)\n",
    "plt.bar(names, values2, label=names)\n",
    "\n",
    "plt.xlabel(\"Models\")\n",
    "plt.ylabel( \"Time in sec\")\n",
    "\n",
    "plt.title(\"Training Time of models\")"
   ]
  },
  {
   "cell_type": "markdown",
   "id": "521f78bf",
   "metadata": {},
   "source": [
    "### Test Time"
   ]
  },
  {
   "cell_type": "code",
   "execution_count": 98,
   "id": "a5087046",
   "metadata": {},
   "outputs": [
    {
     "data": {
      "text/plain": [
       "Text(0.5, 1.0, 'Test Time of models')"
      ]
     },
     "execution_count": 98,
     "metadata": {},
     "output_type": "execute_result"
    },
    {
     "data": {
      "image/png": "[encoded data removed]",
      "text/plain": [
       "<Figure size 2000x500 with 1 Axes>"
      ]
     },
     "metadata": {},
     "output_type": "display_data"
    }
   ],
   "source": [
    "names = ['NB', 'LR', \"RF\", \"SVM\"]\n",
    "values = [0.19, 0.0464, 0.5, 79.84]\n",
    "f = plt.figure(figsize =(20,5), num =10)\n",
    "plt.subplot(131)\n",
    "\n",
    "plt.bar(names, values)\n",
    "\n",
    "plt.xlabel(\"Models\")\n",
    "\n",
    "plt.ylabel( \"Time in sec\")\n",
    "\n",
    "plt.title(\"Test Time of models\")"
   ]
  },
  {
   "cell_type": "code",
   "execution_count": 100,
   "id": "b372ce8c",
   "metadata": {},
   "outputs": [
    {
     "ename": "NameError",
     "evalue": "name 'git' is not defined",
     "output_type": "error",
     "traceback": [
      "\u001b[1;31m---------------------------------------------------------------------------\u001b[0m",
      "\u001b[1;31mNameError\u001b[0m                                 Traceback (most recent call last)",
      "\u001b[1;32m~\\AppData\\Local\\Temp\\ipykernel_20912\\2748079649.py\u001b[0m in \u001b[0;36m<module>\u001b[1;34m\u001b[0m\n\u001b[1;32m----> 1\u001b[1;33m \u001b[0mgit\u001b[0m \u001b[1;33m-\u001b[0m\u001b[1;33m-\u001b[0m\u001b[0minit\u001b[0m\u001b[1;33m\u001b[0m\u001b[1;33m\u001b[0m\u001b[0m\n\u001b[0m",
      "\u001b[1;31mNameError\u001b[0m: name 'git' is not defined"
     ]
    }
   ],
   "source": [
    "git --init"
   ]
  },
  {
   "cell_type": "code",
   "execution_count": null,
   "id": "658cc352",
   "metadata": {},
   "outputs": [],
   "source": []
  }
 ],
 "metadata": {
  "kernelspec": {
   "display_name": "Python 3 (ipykernel)",
   "language": "python",
   "name": "python3"
  },
  "language_info": {
   "codemirror_mode": {
    "name": "ipython",
    "version": 3
   },
   "file_extension": ".py",
   "mimetype": "text/x-python",
   "name": "python",
   "nbconvert_exporter": "python",
   "pygments_lexer": "ipython3",
   "version": "3.9.13"
  }
 },
 "nbformat": 4,
 "nbformat_minor": 5
}
